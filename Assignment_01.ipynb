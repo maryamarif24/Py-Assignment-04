{
  "nbformat": 4,
  "nbformat_minor": 0,
  "metadata": {
    "colab": {
      "provenance": [],
      "authorship_tag": "ABX9TyOutcj+MXCr2o4fqwJHGxQB",
      "include_colab_link": true
    },
    "kernelspec": {
      "name": "python3",
      "display_name": "Python 3"
    },
    "language_info": {
      "name": "python"
    }
  },
  "cells": [
    {
      "cell_type": "markdown",
      "metadata": {
        "id": "view-in-github",
        "colab_type": "text"
      },
      "source": [
        "<a href=\"https://colab.research.google.com/github/maryamarif24/Py-Assignment-04/blob/main/Assignment_01.ipynb\" target=\"_parent\"><img src=\"https://colab.research.google.com/assets/colab-badge.svg\" alt=\"Open In Colab\"/></a>"
      ]
    },
    {
      "cell_type": "markdown",
      "source": [
        "#**01_basics**\n",
        "---\n",
        "---\n",
        "#00_joke_bot"
      ],
      "metadata": {
        "id": "IBRURkFdciuQ"
      }
    },
    {
      "cell_type": "code",
      "source": [
        "Prompt : str = \"What do you want?\"\n",
        "Joke : str = \"Here is a joke for you! \\nSophia is heading out to the grocery store. A programmer tells her: get a liter of milk, and if they have eggs, get 12. Sophia returns with 13 liters of milk. The programmer asks why and Sophia replies: 'because they had eggs'\"\n",
        "Sorry : str = \"We only have jokes\"\n",
        "\n",
        "def main():\n",
        "  if input(Prompt) == \"Joke\":\n",
        "    print(Joke)\n",
        "  else:\n",
        "    print(Sorry)\n",
        "\n",
        "if __name__ == \"__main__\":\n",
        "  main()"
      ],
      "metadata": {
        "colab": {
          "base_uri": "https://localhost:8080/"
        },
        "id": "LOOR6YW0dTM8",
        "outputId": "fd7fec3b-bbfa-478a-af77-69de3350970c"
      },
      "execution_count": null,
      "outputs": [
        {
          "output_type": "stream",
          "name": "stdout",
          "text": [
            "What do you want?Joke\n",
            "Here is a joke for you! \n",
            "Sophia is heading out to the grocery store. A programmer tells her: get a liter of milk, and if they have eggs, get 12. Sophia returns with 13 liters of milk. The programmer asks why and Sophia replies: 'because they had eggs'\n"
          ]
        }
      ]
    },
    {
      "cell_type": "markdown",
      "source": [
        "---\n",
        "---\n",
        "#01_double_it"
      ],
      "metadata": {
        "id": "xJul4LdwfSuA"
      }
    },
    {
      "cell_type": "code",
      "source": [
        "def main():\n",
        "    number = int(input(\"Enter a number: \"))\n",
        "    while number < 100:\n",
        "        number *= 2\n",
        "        print(number, end=\" \")\n",
        "    print()\n",
        "\n",
        "if __name__ == '__main__':\n",
        "    main()"
      ],
      "metadata": {
        "colab": {
          "base_uri": "https://localhost:8080/"
        },
        "id": "qW3fi8XpfZ_q",
        "outputId": "94b7052c-7025-4260-b6c6-ccd47ae1216f"
      },
      "execution_count": null,
      "outputs": [
        {
          "output_type": "stream",
          "name": "stdout",
          "text": [
            "Enter a number: 2\n",
            "4 8 16 32 64 128 \n"
          ]
        }
      ]
    },
    {
      "cell_type": "markdown",
      "source": [
        "---\n",
        "---\n",
        "#02_liftoff"
      ],
      "metadata": {
        "id": "rjts5Lqlfx1t"
      }
    },
    {
      "cell_type": "code",
      "source": [
        "def main():\n",
        "    for i in range(10):\n",
        "        print(10 - i, end=\" \")\n",
        "    print(\"Liftoff!\")\n",
        "\n",
        "if __name__ == '__main__':\n",
        "    main()"
      ],
      "metadata": {
        "colab": {
          "base_uri": "https://localhost:8080/"
        },
        "id": "wlpWjBVwf2oz",
        "outputId": "360b7232-d216-471d-af47-647d6d0fd01d"
      },
      "execution_count": null,
      "outputs": [
        {
          "output_type": "stream",
          "name": "stdout",
          "text": [
            "10 9 8 7 6 5 4 3 2 1 Liftoff!\n"
          ]
        }
      ]
    },
    {
      "cell_type": "markdown",
      "source": [
        "---\n",
        "---\n",
        "#03_guess_my_number"
      ],
      "metadata": {
        "id": "8uv9VxV0f-Iz"
      }
    },
    {
      "cell_type": "code",
      "source": [
        "import random\n",
        "\n",
        "def guess_my_number():\n",
        "    secret_number = random.randint(0, 99)\n",
        "    guess = -1\n",
        "\n",
        "    while guess != secret_number:\n",
        "        try:\n",
        "            guess = int(input(\"I am thinking of a number between 0 and 99... Enter a guess: \"))\n",
        "            if guess < secret_number:\n",
        "                print(\"Your guess is too low\")\n",
        "            elif guess > secret_number:\n",
        "                print(\"Your guess is too high\")\n",
        "            else:\n",
        "                print(f\"Congrats! The number was: {secret_number}\")\n",
        "        except ValueError:\n",
        "            print(\"Invalid input. Please enter a valid number.\")\n",
        "\n",
        "if __name__ == \"__main__\":\n",
        "    guess_my_number()"
      ],
      "metadata": {
        "colab": {
          "base_uri": "https://localhost:8080/"
        },
        "id": "txyqtMK9gBnG",
        "outputId": "9a322c63-7406-4e7a-bc03-8988cc26dbd3"
      },
      "execution_count": null,
      "outputs": [
        {
          "output_type": "stream",
          "name": "stdout",
          "text": [
            "I am thinking of a number between 0 and 99... Enter a guess: 56\n",
            "Your guess is too high\n",
            "I am thinking of a number between 0 and 99... Enter a guess: 34\n",
            "Your guess is too high\n",
            "I am thinking of a number between 0 and 99... Enter a guess: 12\n",
            "Your guess is too high\n",
            "I am thinking of a number between 0 and 99... Enter a guess: 5\n",
            "Congrats! The number was: 5\n"
          ]
        }
      ]
    },
    {
      "cell_type": "markdown",
      "source": [
        "---\n",
        "---\n",
        "#04_random_numbers"
      ],
      "metadata": {
        "id": "2KsOitH0gQTo"
      }
    },
    {
      "cell_type": "code",
      "source": [
        "import random\n",
        "\n",
        "def main():\n",
        "  for _ in range(10):\n",
        "    print(random.randint(1, 100), end=\" \")\n",
        "  print()\n",
        "\n",
        "if __name__ == '__main__':\n",
        "  main()"
      ],
      "metadata": {
        "colab": {
          "base_uri": "https://localhost:8080/"
        },
        "id": "tD2anvi6gd1Q",
        "outputId": "8bb92788-b785-45ca-947d-2a28626bf2d5"
      },
      "execution_count": null,
      "outputs": [
        {
          "output_type": "stream",
          "name": "stdout",
          "text": [
            "10 67 5 58 66 71 43 98 57 13 \n"
          ]
        }
      ]
    },
    {
      "cell_type": "markdown",
      "source": [
        "---\n",
        "---\n",
        "---\n",
        "---\n",
        "#**02_intermediate**\n",
        "---\n",
        "---\n",
        "#Control Flow for Console\n",
        "High-Low Game"
      ],
      "metadata": {
        "id": "Mbs0Ozd8gfsF"
      }
    },
    {
      "cell_type": "code",
      "source": [
        "import random\n",
        "\n",
        "Number_of_rounds: int = 5\n",
        "\n",
        "def main():\n",
        "    print(\"Welcome to the High-Low Game!\")\n",
        "    print(\"------------------------------\")\n",
        "\n",
        "    your_score = 0\n",
        "\n",
        "    for round in range(1, Number_of_rounds + 1):\n",
        "      print()\n",
        "      print(f\"Round {round}\")\n",
        "\n",
        "      for i in range(1):\n",
        "          user_no = random.randint(1, 100)\n",
        "          computer_no = random.randint(1, 100)\n",
        "          print(f\"Your number: {user_no}\")\n",
        "\n",
        "\n",
        "      user_choice = input(\"Do you think your number is higher or lower than the computer's number? \")\n",
        "\n",
        "\n",
        "      if user_choice == \"higher\":\n",
        "          if user_no > computer_no:\n",
        "              print(f\"You are correct! Computer's number was {computer_no}\")\n",
        "              your_score += 1\n",
        "          else:\n",
        "              print(f\"Wrong! Your number was not higher. Computer's number was {computer_no}\")\n",
        "      elif user_choice == \"lower\":\n",
        "          if user_no < computer_no:\n",
        "              print(f\"You are correct! Computer's number was {computer_no}\")\n",
        "              your_score += 1\n",
        "          else:\n",
        "              print(f\"Wrong! Your number was not lower. Computer's number was {computer_no}\")\n",
        "      else:\n",
        "          print(\"Invalid input. Please enter 'higher' or 'lower'.\")\n",
        "\n",
        "      print(\"Your score is now\", your_score)\n",
        "      print()\n",
        "\n",
        "    print(f\"Your Total Score = {your_score}\")\n",
        "\n",
        "    if your_score == Number_of_rounds:\n",
        "        print(\"Congratulations! You won the game!\")\n",
        "    else:\n",
        "        print(\"Better luck next time!\")\n",
        "\n",
        "    print()\n",
        "    print(\"Thanks for playing!\")\n",
        "\n",
        "if __name__ == '__main__':\n",
        "    main()\n"
      ],
      "metadata": {
        "colab": {
          "base_uri": "https://localhost:8080/"
        },
        "id": "57gCD_mchLVd",
        "outputId": "90b10c0c-7c3b-462d-a4f2-b30f67a0d894"
      },
      "execution_count": null,
      "outputs": [
        {
          "output_type": "stream",
          "name": "stdout",
          "text": [
            "Welcome to the High-Low Game!\n",
            "------------------------------\n",
            "\n",
            "Round 1\n",
            "Your number: 6\n",
            "Do you think your number is higher or lower than the computer's number? lower\n",
            "You are correct! Computer's number was 86\n",
            "Your score is now 1\n",
            "\n",
            "\n",
            "Round 2\n",
            "Your number: 17\n",
            "Do you think your number is higher or lower than the computer's number? higher\n",
            "Wrong! Your number was not higher. Computer's number was 77\n",
            "Your score is now 1\n",
            "\n",
            "\n",
            "Round 3\n",
            "Your number: 54\n",
            "Do you think your number is higher or lower than the computer's number? higher\n",
            "Wrong! Your number was not higher. Computer's number was 89\n",
            "Your score is now 1\n",
            "\n",
            "\n",
            "Round 4\n",
            "Your number: 13\n",
            "Do you think your number is higher or lower than the computer's number? lower\n",
            "You are correct! Computer's number was 34\n",
            "Your score is now 2\n",
            "\n",
            "\n",
            "Round 5\n",
            "Your number: 73\n",
            "Do you think your number is higher or lower than the computer's number? lower\n",
            "You are correct! Computer's number was 90\n",
            "Your score is now 3\n",
            "\n",
            "Your Total Score = 3\n",
            "Better luck next time!\n",
            "\n",
            "Thanks for playing!\n"
          ]
        }
      ]
    },
    {
      "cell_type": "markdown",
      "source": [
        "---\n",
        "---\n",
        "#Intro to Python\n",
        "Planetary Weight Calculator"
      ],
      "metadata": {
        "id": "m_tjLu9Wr4j9"
      }
    },
    {
      "cell_type": "code",
      "source": [
        "def main():\n",
        "    earth_weight = float(input(\"Enter your weight on Earth: \"))\n",
        "    mars_weight = earth_weight * 0.378\n",
        "    mercury_weight = earth_weight * 0.376\n",
        "    venus_weight = earth_weight * 0.889\n",
        "    jupiter_weight = earth_weight * 2.36\n",
        "    saturn_weight = earth_weight * 1.081\n",
        "    uranus_weight = earth_weight * 0.815\n",
        "    neptune_weight = earth_weight * 1.14\n",
        "\n",
        "    name_planet = input(\"Enter the name of the planet: \")\n",
        "\n",
        "    if name_planet == \"Mars\":\n",
        "        print(f\"Your weight on Mars is: {round(mars_weight, 2)}\")\n",
        "    elif name_planet == \"Mercury\":\n",
        "        print(f\"Your weight on Mercury is: {round(mercury_weight, 2)}\")\n",
        "    elif name_planet == \"Venus\":\n",
        "        print(f\"Your weight on Venus is: {round(venus_weight, 2)}\")\n",
        "    elif name_planet == \"Jupiter\":\n",
        "        print(f\"Your weight on Jupiter is: {round(jupiter_weight, 2)}\")\n",
        "    elif name_planet == \"Saturn\":\n",
        "        print(f\"Your weight on Saturn is: {round(saturn_weight, 2)}\")\n",
        "    elif name_planet == \"Uranus\":\n",
        "        print(f\"Your weight on Uranus is: {round(uranus_weight, 2)}\")\n",
        "    elif name_planet == \"Neptune\":\n",
        "        print(f\"Your weight on Neptune is: {round(neptune_weight, 2)}\")\n",
        "    else:\n",
        "        print(\"Invalid input. Please enter a valid planet name.\")\n",
        "\n",
        "\n",
        "if __name__ == \"__main__\":\n",
        "    main()\n"
      ],
      "metadata": {
        "colab": {
          "base_uri": "https://localhost:8080/"
        },
        "id": "UVwKLf1aseSR",
        "outputId": "70534143-077e-4685-8a95-7465a53e31e3"
      },
      "execution_count": null,
      "outputs": [
        {
          "output_type": "stream",
          "name": "stdout",
          "text": [
            "Enter your weight on Earth: 45\n",
            "Enter the name of the planet: Mars\n",
            "Your weight on Mars is: 17.01\n"
          ]
        }
      ]
    },
    {
      "cell_type": "markdown",
      "source": [
        "---\n",
        "---\n",
        "#Lists and Dicts\n",
        "---\n",
        "Problem #1: List Practice"
      ],
      "metadata": {
        "id": "NncvnaYDzx6g"
      }
    },
    {
      "cell_type": "code",
      "source": [
        "def main():\n",
        "  fruit_list = [\"apple\", \"banana\", \"orange\", \"grape\", \"pineapple\"]\n",
        "  print(len(fruit_list))\n",
        "\n",
        "  fruit_list.append(\"mango\")\n",
        "  print(fruit_list)\n",
        "\n",
        "\n",
        "if __name__ == \"__main__\":\n",
        "  main()"
      ],
      "metadata": {
        "colab": {
          "base_uri": "https://localhost:8080/"
        },
        "id": "qDDLxmP90BTG",
        "outputId": "f5464e03-eca8-4d7d-cfec-34839a5a3ea9"
      },
      "execution_count": null,
      "outputs": [
        {
          "output_type": "stream",
          "name": "stdout",
          "text": [
            "5\n",
            "['apple', 'banana', 'orange', 'grape', 'pineapple', 'mango']\n"
          ]
        }
      ]
    },
    {
      "cell_type": "markdown",
      "source": [
        "---\n",
        "Problem #2: Index Game"
      ],
      "metadata": {
        "id": "cZwcVIu9LCmr"
      }
    },
    {
      "cell_type": "code",
      "source": [
        "my_list = [42, \"apple\", 3.14, \"banana\", 100]\n",
        "\n",
        "def get_element_at_index(my_list, index):\n",
        "    try:\n",
        "        return my_list[index]\n",
        "    except IndexError:\n",
        "        return \"Index out of range. Please provide a valid index.\"\n",
        "\n",
        "def replace_element_at_index(my_list, index, new_value):\n",
        "    try:\n",
        "        my_list[index] = new_value\n",
        "        return my_list\n",
        "    except IndexError:\n",
        "        return \"Index out of range. Cannot replace value.\"\n",
        "\n",
        "def get_sublist_between_indices(my_list, start_index, end_index):\n",
        "    if start_index < 0 or end_index > len(my_list) or start_index >= end_index:\n",
        "        return \"Invalid indices. Please provide a valid range.\"\n",
        "    return my_list[start_index:end_index]\n",
        "\n",
        "print(get_element_at_index(my_list, 2))\n",
        "print(get_element_at_index(my_list, 0))\n",
        "print(get_element_at_index(my_list, 4))\n",
        "print(get_element_at_index(my_list, 10))\n",
        "print()\n",
        "\n",
        "print(replace_element_at_index(my_list, 1, \"orange\"))\n",
        "print(replace_element_at_index(my_list, 10, \"grape\"))\n",
        "print()\n",
        "\n",
        "print(get_sublist_between_indices(my_list, 1, 4))\n",
        "print(get_sublist_between_indices(my_list, -1, 3))\n",
        "print(get_sublist_between_indices(my_list, 3, 10))\n",
        "print()"
      ],
      "metadata": {
        "colab": {
          "base_uri": "https://localhost:8080/"
        },
        "id": "MGHtZ-CnLLlh",
        "outputId": "6f477766-ddde-421c-8fdf-b967847811e2"
      },
      "execution_count": null,
      "outputs": [
        {
          "output_type": "stream",
          "name": "stdout",
          "text": [
            "3.14\n",
            "42\n",
            "100\n",
            "Index out of range. Please provide a valid index.\n",
            "\n",
            "[42, 'orange', 3.14, 'banana', 100]\n",
            "Index out of range. Cannot replace value.\n",
            "\n",
            "['orange', 3.14, 'banana']\n",
            "Invalid indices. Please provide a valid range.\n",
            "Invalid indices. Please provide a valid range.\n",
            "\n"
          ]
        }
      ]
    },
    {
      "cell_type": "code",
      "source": [
        "def get_element_at_index(my_list, index):\n",
        "    try:\n",
        "        return my_list[index]\n",
        "    except IndexError:\n",
        "        return \"Index out of range. Please provide a valid index.\"\n",
        "\n",
        "def replace_element_at_index(my_list, index, new_value):\n",
        "    try:\n",
        "        my_list[index] = new_value\n",
        "        return my_list\n",
        "    except IndexError:\n",
        "        return \"Index out of range. Cannot replace value.\"\n",
        "\n",
        "def get_sublist_between_indices(my_list, start_index, end_index):\n",
        "    if start_index < 0 or end_index > len(my_list) or start_index >= end_index:\n",
        "        return \"Invalid indices. Please provide a valid range.\"\n",
        "    return my_list[start_index:end_index]\n",
        "\n",
        "def main():\n",
        "    my_list = [42, \"apple\", 3.14, \"banana\", 100]\n",
        "    print(\"Welcome to the List Operation Game!\")\n",
        "    print(\"Your starting list is:\", my_list)\n",
        "    print(\"Available operations: access, modify, slice\")\n",
        "\n",
        "    operation = input(\"Choose an operation: \").strip().lower()\n",
        "\n",
        "    if operation == \"access\":\n",
        "        index = int(input(\"Enter the index to access: \"))\n",
        "        result = get_element_at_index(my_list, index)\n",
        "        print(\"Result:\", result)\n",
        "\n",
        "    elif operation == \"modify\":\n",
        "        index = int(input(\"Enter the index to modify: \"))\n",
        "        new_value = input(\"Enter the new value: \")\n",
        "        result = replace_element_at_index(my_list, index, new_value)\n",
        "        print(\"Updated list:\", result)\n",
        "\n",
        "    elif operation == \"slice\":\n",
        "        start_index = int(input(\"Enter the start index: \"))\n",
        "        end_index = int(input(\"Enter the end index: \"))\n",
        "        result = get_sublist_between_indices(my_list, start_index, end_index)\n",
        "        print(\"Sliced list:\", result)\n",
        "\n",
        "    else:\n",
        "        print(\"Invalid operation selected.\")\n",
        "\n",
        "    print(\"Final list state:\", my_list)\n",
        "\n",
        "if __name__ == '__main__':\n",
        "    main()"
      ],
      "metadata": {
        "colab": {
          "base_uri": "https://localhost:8080/"
        },
        "id": "BXv1PUTua5fk",
        "outputId": "d75c146d-7f7f-4e92-b5fc-f0c9dac1e155"
      },
      "execution_count": null,
      "outputs": [
        {
          "output_type": "stream",
          "name": "stdout",
          "text": [
            "Welcome to the List Operation Game!\n",
            "Your starting list is: [42, 'apple', 3.14, 'banana', 100]\n",
            "Available operations: access, modify, slice\n",
            "Choose an operation: slice\n",
            "Enter the start index: 0\n",
            "Enter the end index: 4\n",
            "Sliced list: [42, 'apple', 3.14, 'banana']\n",
            "Final list state: [42, 'apple', 3.14, 'banana', 100]\n"
          ]
        }
      ]
    },
    {
      "cell_type": "markdown",
      "source": [
        "---\n",
        "---\n",
        "---\n",
        "---\n",
        "#**Online Class Project 3: QR code encoder / decoder Python Project**"
      ],
      "metadata": {
        "id": "huEKik-hMov_"
      }
    },
    {
      "cell_type": "code",
      "source": [
        "!pip install qrcode --quiet"
      ],
      "metadata": {
        "id": "L4cu6zCcM4EU",
        "colab": {
          "base_uri": "https://localhost:8080/"
        },
        "outputId": "65eafb02-862f-4b57-e720-9767022b77e5"
      },
      "execution_count": null,
      "outputs": [
        {
          "output_type": "stream",
          "name": "stdout",
          "text": [
            "\u001b[?25l   \u001b[90m━━━━━━━━━━━━━━━━━━━━━━━━━━━━━━━━━━━━━━━━\u001b[0m \u001b[32m0.0/45.7 kB\u001b[0m \u001b[31m?\u001b[0m eta \u001b[36m-:--:--\u001b[0m\r\u001b[2K   \u001b[90m━━━━━━━━━━━━━━━━━━━━━━━━━━━━━━━━━━━━━━━━\u001b[0m \u001b[32m45.7/45.7 kB\u001b[0m \u001b[31m1.9 MB/s\u001b[0m eta \u001b[36m0:00:00\u001b[0m\n",
            "\u001b[?25h"
          ]
        }
      ]
    },
    {
      "cell_type": "code",
      "source": [
        "import os\n",
        "import qrcode\n",
        "from PIL import Image\n",
        "from IPython.display import display\n",
        "\n",
        "data = \"Don't forget to subscribe\"\n",
        "img = qrcode.make(data)\n",
        "\n",
        "# Create the folder if it doesn't exist\n",
        "output_dir = \"C:/Users/HP/OneDrive/Documents/Maryam/new\"\n",
        "os.makedirs(output_dir, exist_ok=True)\n",
        "\n",
        "# Save the QR code image\n",
        "file_path = os.path.join(output_dir, \"myqrcode.png\")\n",
        "img.save(file_path)\n",
        "\n",
        "# Display the QR code image in the notebook\n",
        "display(img)"
      ],
      "metadata": {
        "colab": {
          "base_uri": "https://localhost:8080/",
          "height": 347
        },
        "id": "qIUYZAYtSIkz",
        "outputId": "20a658c7-8e65-4095-ce1c-30844e57dbd8"
      },
      "execution_count": null,
      "outputs": [
        {
          "output_type": "display_data",
          "data": {
            "text/plain": [
              "<qrcode.image.pil.PilImage at 0x7bacc0fb4f50>"
            ],
            "image/png": "[encoded data removed]",
            "image/jpeg": "[encoded data removed]"
          },
          "metadata": {}
        }
      ]
    },
    {
      "cell_type": "markdown",
      "source": [
        "---\n",
        "---\n",
        "#**Online Class Project 4: Tic-Tac-Toe Python Project**"
      ],
      "metadata": {
        "id": "XzmE7nJ_VYvu"
      }
    },
    {
      "cell_type": "code",
      "source": [
        "%%writefile player.py\n",
        "\n",
        "import math\n",
        "import random\n",
        "\n",
        "class Player:\n",
        "  def __init__(self,letter):\n",
        "    self.letter = letter\n",
        "\n",
        "  def get_move(self,game):\n",
        "    pass\n",
        "\n",
        "\n",
        "class RandomComputerPlayer(Player):\n",
        "  def __init__(self, letter):\n",
        "    super().__init__(letter)\n",
        "\n",
        "  def get_move(self, game):\n",
        "    square = random.choice(game.available_moves())\n",
        "    return square\n",
        "\n",
        "class HumanPlayer(Player):\n",
        "  def __init__(self, letter):\n",
        "    super().__init__(letter)\n",
        "\n",
        "  def get_move(self, game):\n",
        "    valid_square = False\n",
        "    val = None\n",
        "    while not valid_square:\n",
        "      square = input(self.letter + '\\'s turn. Input move (0-9): ')\n",
        "\n",
        "      try:\n",
        "        val = int(square)\n",
        "        if val not in game.available_moves():\n",
        "          raise ValueError\n",
        "        valid_square = True\n",
        "      except ValueError:\n",
        "        print('Invalid square. Try again.')\n",
        "    return val"
      ],
      "metadata": {
        "colab": {
          "base_uri": "https://localhost:8080/"
        },
        "id": "htTJ9J_pVmz6",
        "outputId": "a8ee2a04-1a9d-4e4c-d0a1-45b15699eba4"
      },
      "execution_count": null,
      "outputs": [
        {
          "output_type": "stream",
          "name": "stdout",
          "text": [
            "Overwriting player.py\n"
          ]
        }
      ]
    },
    {
      "cell_type": "code",
      "source": [
        "%%writefile game.py\n",
        "\n",
        "from player import HumanPlayer, RandomComputerPlayer\n",
        "\n",
        "\n",
        "class TicTacToe:\n",
        "  def __init__(self):\n",
        "    self.board = [' ' for _ in range(9)]\n",
        "    self.current_winner = None\n",
        "\n",
        "  def print_board(self):\n",
        "    for row in [self.board[i*3: (i+1)*3] for i in range(3)]:\n",
        "      print('| ' + ' | '.join(row) + ' |')\n",
        "\n",
        "  @staticmethod\n",
        "  def print_board_nums():\n",
        "    number_board = [[str(i) for i in range(j*3, (j+1)*3)] for j in range(3)]\n",
        "    for row in number_board:\n",
        "      print('| ' + ' | '.join(row) + ' |')\n",
        "\n",
        "  def available_moves(self):\n",
        "    return [i for i, spot in enumerate(self.board) if spot == ' ']\n",
        "\n",
        "  def empty_squares(self):\n",
        "    return ' ' in self.board\n",
        "\n",
        "  def num_empty_squares(self):\n",
        "    return self.board.count(' ')\n",
        "\n",
        "  def make_move(self, square, letter):\n",
        "    if self.board[square] == ' ':\n",
        "      self.board[square] = letter\n",
        "      if self.winner(square, letter):\n",
        "        self.current_winner = letter\n",
        "      return True\n",
        "    return False\n",
        "\n",
        "\n",
        "  def winner(self, square, letter):\n",
        "    row_ind = square // 3\n",
        "    row = self.board[row_ind*3 : (row_ind + 1) * 3]\n",
        "    if all([spot == letter for spot in row]):\n",
        "      return True\n",
        "\n",
        "\n",
        "    col_ind = square % 3\n",
        "    column = [self.board[col_ind+i*3] for i in range(3)]\n",
        "    if all([spot == letter for spot in column]):\n",
        "      return True\n",
        "\n",
        "    if square % 2 == 0:\n",
        "      diagonal1 = [self.board[i] for i in [0, 4, 8]]\n",
        "      if all([spot == letter for spot in diagonal1]):\n",
        "        return True\n",
        "      diagonal2 = [self.board[i] for i in [2, 4, 6]]\n",
        "      if all([spot == letter for spot in diagonal2]):\n",
        "        return True\n",
        "\n",
        "    return False\n",
        "\n",
        "\n",
        "\n",
        "def play(game, x_player, o_player, print_game=True):\n",
        "  if print_game:\n",
        "    game.print_board_nums()\n",
        "\n",
        "  letter = 'X'\n",
        "  while game.empty_squares():\n",
        "    if letter == 'O':\n",
        "      square = o_player.get_move(game)\n",
        "    else:\n",
        "      square = x_player.get_move(game)\n",
        "\n",
        "    if game.make_move(square, letter):\n",
        "      if print_game:\n",
        "        print(letter + f' makes a move to square {square}')\n",
        "        game.print_board()\n",
        "        print('')\n",
        "\n",
        "      if game.current_winner:\n",
        "        if print_game:\n",
        "          print(letter + ' wins!')\n",
        "        return letter\n",
        "\n",
        "      letter = 'O' if letter == 'X' else 'X'\n",
        "\n",
        "    if print_game:\n",
        "      print('It\\'s a tie!')\n",
        "\n",
        "if __name__ == '__main__':\n",
        "  x_player = HumanPlayer('X')\n",
        "  o_player = RandomComputerPlayer('O')\n",
        "  t = TicTacToe()\n",
        "  play(t, x_player, o_player, print_game=True)"
      ],
      "metadata": {
        "colab": {
          "base_uri": "https://localhost:8080/"
        },
        "id": "wjuMlsdiuMZY",
        "outputId": "e7568c93-6141-45bb-bc8b-4608f4f3cc45"
      },
      "execution_count": null,
      "outputs": [
        {
          "output_type": "stream",
          "name": "stdout",
          "text": [
            "Overwriting game.py\n"
          ]
        }
      ]
    },
    {
      "cell_type": "code",
      "source": [
        "!pip install pygame --quiet"
      ],
      "metadata": {
        "id": "HlgDVHV20QvV"
      },
      "execution_count": null,
      "outputs": []
    },
    {
      "cell_type": "code",
      "source": [
        "!python game.py"
      ],
      "metadata": {
        "colab": {
          "base_uri": "https://localhost:8080/"
        },
        "id": "fqyWVgYj0bt6",
        "outputId": "324844dd-bd18-49d9-8ae6-7360b1a07537"
      },
      "execution_count": null,
      "outputs": [
        {
          "output_type": "stream",
          "name": "stdout",
          "text": [
            "| 0 | 1 | 2 |\n",
            "| 3 | 4 | 5 |\n",
            "| 6 | 7 | 8 |\n",
            "X's turn. Input move (0-9): 1\n",
            "X makes a move to square 1\n",
            "|   | X |   |\n",
            "|   |   |   |\n",
            "|   |   |   |\n",
            "\n",
            "It's a tie!\n",
            "O makes a move to square 8\n",
            "|   | X |   |\n",
            "|   |   |   |\n",
            "|   |   | O |\n",
            "\n",
            "It's a tie!\n",
            "X's turn. Input move (0-9): 7\n",
            "X makes a move to square 7\n",
            "|   | X |   |\n",
            "|   |   |   |\n",
            "|   | X | O |\n",
            "\n",
            "It's a tie!\n",
            "O makes a move to square 6\n",
            "|   | X |   |\n",
            "|   |   |   |\n",
            "| O | X | O |\n",
            "\n",
            "It's a tie!\n",
            "X's turn. Input move (0-9): 4\n",
            "X makes a move to square 4\n",
            "|   | X |   |\n",
            "|   | X |   |\n",
            "| O | X | O |\n",
            "\n",
            "X wins!\n"
          ]
        }
      ]
    },
    {
      "cell_type": "markdown",
      "source": [
        "---\n",
        "---\n",
        "#**Online Class Project 5: Binary Search Python Project**"
      ],
      "metadata": {
        "id": "QQef7mCs1ogH"
      }
    },
    {
      "cell_type": "code",
      "source": [
        "%%writefile binary_search.py\n",
        "\n",
        "import random\n",
        "import time\n",
        "\n",
        "def naive_search(l, target):\n",
        "  for i in range(len(l)):\n",
        "    if l[i] == target:\n",
        "      return i\n",
        "  return -1\n",
        "\n",
        "def binary_search(l, target, low=None, high=None):\n",
        "  if low is None:\n",
        "    low = 0\n",
        "  if high is None:\n",
        "    high = len(l) - 1\n",
        "\n",
        "  if high < low:\n",
        "    return -1\n",
        "\n",
        "\n",
        "  midpoint = (low + high) // 2\n",
        "\n",
        "\n",
        "\n",
        "  if l[midpoint] == target:\n",
        "    return midpoint\n",
        "  elif target < l[midpoint]:\n",
        "    return binary_search(l, target, low, midpoint-1)\n",
        "  else:\n",
        "    return binary_search(l, target, midpoint+1, high)\n",
        "\n",
        "if __name__ == '__main__':\n",
        "  # l = [1, 3, 5, 10, 12]\n",
        "  # target = 10\n",
        "  # print(naive_search(l, target))\n",
        "  # print(binary_search(l, target))\n",
        "\n",
        "  length = 10000\n",
        "  sorted_list = set()\n",
        "  while len(sorted_list) < length:\n",
        "    sorted_list.add(random.randint(-3*length, 3*length))\n",
        "  sorted_list = sorted(list(sorted_list))\n",
        "\n",
        "  start = time.time()\n",
        "  for target in sorted_list:\n",
        "    naive_search(sorted_list, target)\n",
        "  end = time.time()\n",
        "  print(\"Naive search time: \", (end - start)/length, \"seconds\")\n",
        "\n",
        "  start = time.time()\n",
        "  for target in sorted_list:\n",
        "    binary_search(sorted_list, target)\n",
        "  end = time.time()\n",
        "  print(\"Binary search time: \", (end - start)/length, \"seconds\")"
      ],
      "metadata": {
        "colab": {
          "base_uri": "https://localhost:8080/"
        },
        "id": "z3oTPJ_b1rMx",
        "outputId": "b410a0b9-4d33-49ea-f4b9-94674b54e604"
      },
      "execution_count": null,
      "outputs": [
        {
          "output_type": "stream",
          "name": "stdout",
          "text": [
            "Writing binary_search.py\n"
          ]
        }
      ]
    },
    {
      "cell_type": "code",
      "source": [
        "!python binary_search.py"
      ],
      "metadata": {
        "colab": {
          "base_uri": "https://localhost:8080/"
        },
        "id": "tesJwMSB5IxQ",
        "outputId": "f5c596ef-74d1-4882-a1d0-249af2fcf165"
      },
      "execution_count": null,
      "outputs": [
        {
          "output_type": "stream",
          "name": "stdout",
          "text": [
            "Naive search time:  0.00018201446533203124 seconds\n",
            "Binary search time:  2.40321159362793e-06 seconds\n"
          ]
        }
      ]
    },
    {
      "cell_type": "markdown",
      "source": [
        "---\n",
        "---\n",
        "#**Online Class Project 6: Bulk File Re-namer Python Project**"
      ],
      "metadata": {
        "id": "bi4AUzhf5UUW"
      }
    },
    {
      "cell_type": "code",
      "source": [
        "%%writefile rename.py\n",
        "\n",
        "import os\n",
        "\n",
        "\n",
        "def main():\n",
        "  i = 0\n",
        "  path = \"C:/Users/HP/OneDrive/Documents/Maryam/new/\"\n",
        "  for filename in os.listdir(path):\n",
        "    my_dest = \"image\" + str(i) + \".jpg\"\n",
        "    my_source = path + filename\n",
        "    my_dest =path + my_dest\n",
        "    os.rename(my_source, my_dest)\n",
        "    i += 1\n",
        "\n",
        "if __name__ == '__main__':\n",
        "  main()"
      ],
      "metadata": {
        "colab": {
          "base_uri": "https://localhost:8080/"
        },
        "id": "OP54671X5lmc",
        "outputId": "788b9687-1156-42ea-b4bf-6e1ca32c1625"
      },
      "execution_count": null,
      "outputs": [
        {
          "output_type": "stream",
          "name": "stdout",
          "text": [
            "Overwriting rename.py\n"
          ]
        }
      ]
    },
    {
      "cell_type": "code",
      "source": [
        "!python rename.py"
      ],
      "metadata": {
        "id": "XC07KCph7ADE"
      },
      "execution_count": null,
      "outputs": []
    },
    {
      "cell_type": "markdown",
      "source": [
        "---\n",
        "---\n",
        "#**Online Class Project 7: Weather Program Python Project**"
      ],
      "metadata": {
        "id": "EV1CSvsy7opR"
      }
    },
    {
      "cell_type": "code",
      "source": [
        "import requests\n",
        "from pprint import pprint\n",
        "\n",
        "API_Key = 'cb771e45ac79a4e8e2205c0ce66ff633'\n",
        "\n",
        "city = input(\"Enter a city: \")\n",
        "\n",
        "base_url = \"http://api.openweathermap.org/data/2.5/weather?appid=\"+API_Key+\"&q=\"+city\n",
        "\n",
        "weather_data = requests.get(base_url).json()\n",
        "\n",
        "pprint(weather_data)"
      ],
      "metadata": {
        "colab": {
          "base_uri": "https://localhost:8080/"
        },
        "id": "pw9Bbru9j27I",
        "outputId": "6f4012ef-a33c-4ce4-c9b4-9c214c91a992"
      },
      "execution_count": null,
      "outputs": [
        {
          "output_type": "stream",
          "name": "stdout",
          "text": [
            "Enter a city: Karachi\n",
            "{'base': 'stations',\n",
            " 'clouds': {'all': 0},\n",
            " 'cod': 200,\n",
            " 'coord': {'lat': 24.9056, 'lon': 67.0822},\n",
            " 'dt': 1744051816,\n",
            " 'id': 1174872,\n",
            " 'main': {'feels_like': 300.91,\n",
            "          'grnd_level': 1006,\n",
            "          'humidity': 57,\n",
            "          'pressure': 1010,\n",
            "          'sea_level': 1010,\n",
            "          'temp': 300.05,\n",
            "          'temp_max': 300.05,\n",
            "          'temp_min': 300.05},\n",
            " 'name': 'Karachi',\n",
            " 'sys': {'country': 'PK',\n",
            "         'id': 7576,\n",
            "         'sunrise': 1743988631,\n",
            "         'sunset': 1744033804,\n",
            "         'type': 1},\n",
            " 'timezone': 18000,\n",
            " 'visibility': 5000,\n",
            " 'weather': [{'description': 'haze', 'icon': '50n', 'id': 721, 'main': 'Haze'}],\n",
            " 'wind': {'deg': 240, 'speed': 3.09}}\n"
          ]
        }
      ]
    },
    {
      "cell_type": "markdown",
      "source": [
        "---\n",
        "---\n",
        "#**Online Class Project 8: Streamlit Crash Course: Build Data-Driven Python Web Apps in Minutes! (Beginner Friendly Tutorial)**"
      ],
      "metadata": {
        "id": "0a9LqWgUmylE"
      }
    },
    {
      "cell_type": "code",
      "source": [
        "%%writefile streamlit.txt\n",
        "\n",
        "Key Points\n",
        "\n",
        "- No need for front-end coding\n",
        "- Reactive -- your app updates every time a change is made\n",
        "- Easy integration with Python libraries like Pandas, NumPy, and Matplotlib\n",
        "\n",
        "30-40"
      ],
      "metadata": {
        "colab": {
          "base_uri": "https://localhost:8080/"
        },
        "id": "GcZRx5iVm-t8",
        "outputId": "cc18e039-f1b7-4601-ae16-6da077d35ed2"
      },
      "execution_count": null,
      "outputs": [
        {
          "output_type": "stream",
          "name": "stdout",
          "text": [
            "Writing streamlit.txt\n"
          ]
        }
      ]
    },
    {
      "cell_type": "code",
      "source": [
        "!pip install streamlit --quiet"
      ],
      "metadata": {
        "id": "bxX_C8dbngao",
        "colab": {
          "base_uri": "https://localhost:8080/"
        },
        "outputId": "2568d5d0-ed1f-484f-d09d-db91adc0160a"
      },
      "execution_count": 3,
      "outputs": [
        {
          "output_type": "stream",
          "name": "stdout",
          "text": [
            "\u001b[2K     \u001b[90m━━━━━━━━━━━━━━━━━━━━━━━━━━━━━━━━━━━━━━━━\u001b[0m \u001b[32m44.3/44.3 kB\u001b[0m \u001b[31m1.9 MB/s\u001b[0m eta \u001b[36m0:00:00\u001b[0m\n",
            "\u001b[2K   \u001b[90m━━━━━━━━━━━━━━━━━━━━━━━━━━━━━━━━━━━━━━━━\u001b[0m \u001b[32m9.8/9.8 MB\u001b[0m \u001b[31m66.2 MB/s\u001b[0m eta \u001b[36m0:00:00\u001b[0m\n",
            "\u001b[2K   \u001b[90m━━━━━━━━━━━━━━━━━━━━━━━━━━━━━━━━━━━━━━━━\u001b[0m \u001b[32m6.9/6.9 MB\u001b[0m \u001b[31m94.9 MB/s\u001b[0m eta \u001b[36m0:00:00\u001b[0m\n",
            "\u001b[2K   \u001b[90m━━━━━━━━━━━━━━━━━━━━━━━━━━━━━━━━━━━━━━━━\u001b[0m \u001b[32m79.1/79.1 kB\u001b[0m \u001b[31m5.5 MB/s\u001b[0m eta \u001b[36m0:00:00\u001b[0m\n",
            "\u001b[?25h"
          ]
        }
      ]
    },
    {
      "cell_type": "code",
      "source": [
        "!streamlit hello"
      ],
      "metadata": {
        "colab": {
          "base_uri": "https://localhost:8080/"
        },
        "collapsed": true,
        "id": "fn_kBDRnnz9y",
        "outputId": "15589878-3f21-4fa6-e260-65fbff32801b"
      },
      "execution_count": null,
      "outputs": [
        {
          "output_type": "stream",
          "name": "stdout",
          "text": [
            "\n",
            "Collecting usage statistics. To deactivate, set browser.gatherUsageStats to false.\n",
            "\u001b[0m\n",
            "\u001b[0m\n",
            "\u001b[34m\u001b[1m  Welcome to Streamlit. Check out our demo in your browser.\u001b[0m\n",
            "\u001b[0m\n",
            "\u001b[34m  Local URL: \u001b[0m\u001b[1mhttp://localhost:8501\u001b[0m\n",
            "\u001b[34m  Network URL: \u001b[0m\u001b[1mhttp://172.28.0.12:8501\u001b[0m\n",
            "\u001b[34m  External URL: \u001b[0m\u001b[1mhttp://35.221.150.190:8501\u001b[0m\n",
            "\u001b[0m\n",
            "  Ready to create your own Python apps super quickly?\u001b[0m\n",
            "  Head over to \u001b[0m\u001b[1mhttps://docs.streamlit.io\u001b[0m\n",
            "\u001b[0m\n",
            "  May you create awesome apps!\u001b[0m\n",
            "\u001b[0m\n",
            "\u001b[0m\n",
            "\u001b[34m  Stopping...\u001b[0m\n",
            "\u001b[34m  Stopping...\u001b[0m\n"
          ]
        }
      ]
    },
    {
      "cell_type": "code",
      "source": [
        "!pip install streamlit pyngrok --quiet"
      ],
      "metadata": {
        "id": "Do8X6jtbpEPJ"
      },
      "execution_count": 5,
      "outputs": []
    },
    {
      "cell_type": "code",
      "source": [
        "from pyngrok import ngrok\n",
        "\n",
        "ngrok.set_auth_token(\"2vMZKONYGNSH1l98ZD0MU2fVrs4_3iNrhuddfJ2bwgFBZyftw\")"
      ],
      "metadata": {
        "colab": {
          "base_uri": "https://localhost:8080/"
        },
        "collapsed": true,
        "id": "Tu7BHUUroxwk",
        "outputId": "7db18294-0c04-4d1a-bc08-fa9edcd23800"
      },
      "execution_count": 6,
      "outputs": [
        {
          "output_type": "stream",
          "name": "stdout",
          "text": []
        }
      ]
    },
    {
      "cell_type": "code",
      "source": [
        "%%writefile apps.py\n",
        "\n",
        "import streamlit as st\n",
        "import pandas as pd\n",
        "import numpy as np\n",
        "import plotly.express as px\n",
        "import seaborn as sns\n",
        "import matplotlib.pyplot as plt\n",
        "\n",
        "\n",
        "# st.title(\"Streamlit Fundamentals\")\n",
        "\n",
        "# st.header(\"This is Header\")\n",
        "\n",
        "# st.subheader(\"This is subheader\")\n",
        "\n",
        "# st.text(\"This is a simple text output\")\n",
        "\n",
        "# st.markdown(\"**This is bold text using markdown**\")\n",
        "\n",
        "# name = \"Maryam\"\n",
        "\n",
        "# number = 10\n",
        "\n",
        "# st.write(\"Hello \", name)\n",
        "# st.write(\"Here's a random number: \", number)\n",
        "\n",
        "# if st.button(\"Click me\"):\n",
        "#   st.write(\"Button clicked!\")\n",
        "\n",
        "# checked = st.checkbox(\"Check me!\")\n",
        "\n",
        "# if checked:\n",
        "#   st.write(\"Checkbox is checked!\")\n",
        "\n",
        "# age = st.slider(\"Select your age\", 0, 100, 25)\n",
        "\n",
        "# st.write(\"Your age is: \", age)\n",
        "\n",
        "# name = st.text_input(\"Enter your name\")\n",
        "# age = st.slider(\"Select your age\", 0, 100)\n",
        "\n",
        "# if st.button(\"Submit\"):\n",
        "#   st.write(f\"Hello {name}, you are {age} years old.\")\n",
        "\n",
        "\n",
        "st.title(\"User Info Form\")\n",
        "\n",
        "name = st.text_input(\"Enter your name\")\n",
        "age = st.slider(\"Select your age\", 0, 100)\n",
        "favourite_number = st.text_input(\"Enter your favourite number\")\n",
        "\n",
        "if st.button(\"Submit!\"):\n",
        "  st.write(f\"Hello, {name}! You are {age} years old, your favourite number is {favourite_number}.\")\n",
        "\n",
        "st.write(\"-------------------------------\")\n",
        "\n",
        "\n",
        "#age = st.number_input(\"Enter your age\", value=20)\n",
        "\n",
        "#st.write(\"Entered age: \", age)\n",
        "\n",
        "\n",
        "\n",
        "# data = {\"Name\": [\"Maryam\", \"Arif\", \"Roohi\", \"Noor\", \"Bisma\"],\n",
        "#         \"Age\": [19, 51, 45, 17, 9],\n",
        "#         \"City\": [\"Qatar\", \"Paris\", \"New York\", \"Berlin\", \"London\"]}\n",
        "\n",
        "# df = pd.DataFrame(data)\n",
        "\n",
        "# styled_df = df.style.applymap(lambda x: \"background-color: yellow\" if isinstance(x, str) and x > 90 else \"\")\n",
        "\n",
        "# st.dataframe(styled_df)\n",
        "\n",
        "# # st.dataframe(df)\n",
        "# # st.table(df) non-scrollable\n",
        "\n",
        "\n",
        "\n",
        "# json_data = {\n",
        "#     \"name\": \"Maryam\",\n",
        "#     \"age\": 19,\n",
        "#     \"address\": {\n",
        "#         \"street\": \"123 Main St\",\n",
        "#         \"city\": \"New York\",\n",
        "#         \"state\": \"NY\",\n",
        "#         \"zip\": \"10001\"\n",
        "#     }\n",
        "# }\n",
        "\n",
        "# st.json(json_data)\n",
        "\n",
        "\n",
        "# data = pd.DataFrame(\n",
        "#     np.random.randn(100, 3),\n",
        "#     columns=[\"A\", \"B\", \"C\"]\n",
        "# )\n",
        "\n",
        "# st.line_chart(data)\n",
        "# st.bar_chart(data)\n",
        "# st.area_chart(data)\n",
        "\n",
        "\n",
        "data = pd.DataFrame({\n",
        "    \"Fruit\" : [\"Apples\", \"Bananas\", \"Cherries\", \"Onions\"],\n",
        "    \"Amount\": [10, 20, 30, 40]\n",
        "})\n",
        "\n",
        "fig = px.bar(data, x=\"Fruit\", y=\"Amount\", title=\"Fruit Sales\")\n",
        "\n",
        "st.plotly_chart(fig)\n",
        "\n",
        "\n",
        "#sidebar\n",
        "st.sidebar.title(\"Sidebar\")\n",
        "\n",
        "option = st.sidebar.selectbox(\"Choose a page: \", [\"Home\", \"About\", \"Contact\"])\n",
        "\n",
        "if option == \"Home\":\n",
        "  st.write(\"This is the Home page\")\n",
        "elif option == \"About\":\n",
        "  st.write(\"This is the About page\")\n",
        "elif option == \"Contact\":\n",
        "  st.write(\"This is the Contact page\")\n",
        "\n",
        ""
      ],
      "metadata": {
        "colab": {
          "base_uri": "https://localhost:8080/"
        },
        "id": "v5W84ID3pRFh",
        "outputId": "01d81eed-4452-4fee-89ea-ecac8ecf1aaa"
      },
      "execution_count": 25,
      "outputs": [
        {
          "output_type": "stream",
          "name": "stdout",
          "text": [
            "Overwriting apps.py\n"
          ]
        }
      ]
    },
    {
      "cell_type": "code",
      "source": [
        "!streamlit run apps.py"
      ],
      "metadata": {
        "colab": {
          "base_uri": "https://localhost:8080/"
        },
        "collapsed": true,
        "id": "0WdmDE28q_f0",
        "outputId": "3719811d-3287-4ef6-ec1c-34500cd8a611"
      },
      "execution_count": 28,
      "outputs": [
        {
          "output_type": "stream",
          "name": "stdout",
          "text": [
            "\n",
            "Collecting usage statistics. To deactivate, set browser.gatherUsageStats to false.\n",
            "\u001b[0m\n",
            "\u001b[0m\n",
            "\u001b[34m\u001b[1m  You can now view your Streamlit app in your browser.\u001b[0m\n",
            "\u001b[0m\n",
            "\u001b[34m  Local URL: \u001b[0m\u001b[1mhttp://localhost:8501\u001b[0m\n",
            "\u001b[34m  Network URL: \u001b[0m\u001b[1mhttp://172.28.0.12:8501\u001b[0m\n",
            "\u001b[34m  External URL: \u001b[0m\u001b[1mhttp://34.171.130.208:8501\u001b[0m\n",
            "\u001b[0m\n",
            "\u001b[34m  Stopping...\u001b[0m\n",
            "\u001b[34m  Stopping...\u001b[0m\n"
          ]
        }
      ]
    },
    {
      "cell_type": "code",
      "source": [
        "import subprocess\n",
        "import threading\n",
        "import time\n",
        "\n",
        "def run():\n",
        "    subprocess.call(['streamlit', 'run', 'app.py'])\n",
        "\n",
        "thread = threading.Thread(target=run)\n",
        "thread.start()\n",
        "\n",
        "time.sleep(5)  # Give Streamlit time to launch"
      ],
      "metadata": {
        "id": "3KI1XokQpI3t"
      },
      "execution_count": 26,
      "outputs": []
    },
    {
      "cell_type": "code",
      "source": [
        "public_url = ngrok.connect(8501)\n",
        "print(\"🚀 Streamlit is live at:\", public_url)"
      ],
      "metadata": {
        "colab": {
          "base_uri": "https://localhost:8080/"
        },
        "id": "4KGWTkjBpMCw",
        "outputId": "bdd43849-02d7-411f-a217-79ee0511b383"
      },
      "execution_count": 27,
      "outputs": [
        {
          "output_type": "stream",
          "name": "stdout",
          "text": [
            "🚀 Streamlit is live at: NgrokTunnel: \"https://ea08-34-171-130-208.ngrok-free.app\" -> \"http://localhost:8501\"\n"
          ]
        }
      ]
    },
    {
      "cell_type": "markdown",
      "source": [
        "---\n",
        "---\n",
        "#**Online Class Project 9: Python Streamlit Web App - Country Information Cards**"
      ],
      "metadata": {
        "id": "vBOOCxArT5c9"
      }
    },
    {
      "cell_type": "code",
      "source": [
        "import requests\n",
        "\n",
        "response = requests.get(\"https://restcountries.com/v3/all\")\n",
        "print(response)"
      ],
      "metadata": {
        "collapsed": true,
        "id": "EQz7UCZ5T-3_"
      },
      "execution_count": null,
      "outputs": []
    },
    {
      "cell_type": "code",
      "source": [
        "response = requests.get(\"https://restcountries.com/v3/name/turkey\")\n",
        "\n",
        "if response.status_code == 200:\n",
        "  data = response.json()\n",
        "  print(data)\n",
        "else:\n",
        "  print(\"Error: \", response.status_code)"
      ],
      "metadata": {
        "colab": {
          "base_uri": "https://localhost:8080/"
        },
        "id": "VNnkpcVoUWgu",
        "outputId": "00a8dd31-cab7-4c0b-8544-808ebe94926e"
      },
      "execution_count": 30,
      "outputs": [
        {
          "output_type": "stream",
          "name": "stdout",
          "text": [
            "[{'name': {'common': 'Turkey', 'official': 'Republic of Turkey', 'nativeName': {'tur': {'official': 'Türkiye Cumhuriyeti', 'common': 'Türkiye'}}}, 'tld': ['.tr'], 'cca2': 'TR', 'ccn3': '792', 'cca3': 'TUR', 'cioc': 'TUR', 'independent': True, 'status': 'officially-assigned', 'unMember': True, 'currencies': {'TRY': {'name': 'Turkish lira', 'symbol': '₺'}}, 'idd': {'root': '+9', 'suffixes': ['0']}, 'capital': ['Ankara'], 'altSpellings': ['TR', 'Turkiye', 'Republic of Turkey', 'Türkiye Cumhuriyeti'], 'region': 'Asia', 'subregion': 'Western Asia', 'languages': {'tur': 'Turkish'}, 'translations': {'ara': {'official': 'الجمهورية التركية', 'common': 'تركيا'}, 'bre': {'official': 'Republik Turkia', 'common': 'Turkia'}, 'ces': {'official': 'Turecká republika', 'common': 'Turecko'}, 'cym': {'official': 'Republic of Turkey', 'common': 'Turkey'}, 'deu': {'official': 'Republik Türkei', 'common': 'Türkei'}, 'est': {'official': 'Türgi Vabariik', 'common': 'Türgi'}, 'fin': {'official': 'Turkin tasavalta', 'common': 'Turkki'}, 'fra': {'official': 'République de Turquie', 'common': 'Turquie'}, 'hrv': {'official': 'Republika Turska', 'common': 'Turska'}, 'hun': {'official': 'Török Köztársaság', 'common': 'Törökország'}, 'ita': {'official': 'Repubblica di Turchia', 'common': 'Turchia'}, 'jpn': {'official': 'トルコ共和国', 'common': 'トルコ'}, 'kor': {'official': '터키 공화국', 'common': '터키'}, 'nld': {'official': 'Republiek Turkije', 'common': 'Turkije'}, 'per': {'official': 'جمهوری ترکیه', 'common': 'ترکیه'}, 'pol': {'official': 'Republika Turcji', 'common': 'Turcja'}, 'por': {'official': 'República da Turquia', 'common': 'Turquia'}, 'rus': {'official': 'Республика Турции', 'common': 'Турция'}, 'slk': {'official': 'Turecká republika', 'common': 'Turecko'}, 'spa': {'official': 'República de Turquía', 'common': 'Turquía'}, 'swe': {'official': 'Republiken Turkiet', 'common': 'Turkiet'}, 'urd': {'official': 'جمہوریہ ترکی', 'common': 'ترکی'}, 'zho': {'official': '土耳其共和国', 'common': '土耳其'}}, 'latlng': [39.0, 35.0], 'landlocked': False, 'borders': ['ARM', 'AZE', 'BGR', 'GEO', 'GRC', 'IRN', 'IRQ', 'SYR'], 'area': 783562.0, 'demonyms': {'eng': {'f': 'Turkish', 'm': 'Turkish'}, 'fra': {'f': 'Turque', 'm': 'Turc'}}, 'flag': '🇹🇷', 'maps': {'googleMaps': 'https://goo.gl/maps/dXFFraiUDfcB6Quk6', 'openStreetMaps': 'https://www.openstreetmap.org/relation/174737'}, 'population': 84339067, 'gini': {'2019': 41.9}, 'fifa': 'TUR', 'car': {'signs': ['TR'], 'side': 'right'}, 'timezones': ['UTC+03:00'], 'continents': ['Asia'], 'flags': ['https://flagcdn.com/tr.svg', 'https://flagcdn.com/w320/tr.png']}]\n"
          ]
        }
      ]
    },
    {
      "cell_type": "code",
      "source": [
        "%%writefile myapp.py\n",
        "\n",
        "import streamlit as st\n",
        "import requests\n",
        "\n",
        "def fetch_country_data(country_name):\n",
        "  url = f\"https://restcountries.com/v3/name/{country_name}\"\n",
        "  response = requests.get(url)\n",
        "\n",
        "  if response.status_code == 200:\n",
        "    data = response.json()\n",
        "    country_data = data[0]\n",
        "    name = country_data[\"name\"][\"common\"]\n",
        "    capital = country_data[\"capital\"][0]\n",
        "    population = country_data[\"population\"]\n",
        "    area = country_data[\"area\"]\n",
        "    currency = country_data[\"currencies\"]\n",
        "    region = country_data[\"region\"]\n",
        "    return name, capital, population, area, currency, region\n",
        "  else:\n",
        "    return None\n",
        "\n",
        "def main():\n",
        "  st.title(\"Country Information App\")\n",
        "\n",
        "  country_name = st.text_input(\"Enter a country name: \")\n",
        "\n",
        "  if country_name:\n",
        "    country_info = fetch_country_data(country_name)\n",
        "    if country_info:\n",
        "      name, capital, population, area, currency, region = country_info\n",
        "\n",
        "      st.subheader(\"Country Information\")\n",
        "      st.write(f\"Name: {name}\")\n",
        "      st.write(f\"Capital: {capital}\")\n",
        "      st.write(f\"Population: {population}\")\n",
        "      st.write(f\"Area: {area}\")\n",
        "      st.write(f\"Currency: {currency}\")\n",
        "      st.write(f\"Region: {region}\")\n",
        "    else:\n",
        "      st.error(\"Error: Country not found.\")\n",
        "\n",
        "if __name__ == \"__main__\":\n",
        "  main()"
      ],
      "metadata": {
        "colab": {
          "base_uri": "https://localhost:8080/"
        },
        "id": "9UtZDMb9Uvon",
        "outputId": "8015d115-f9a8-455a-f27f-a397e0565b90"
      },
      "execution_count": 32,
      "outputs": [
        {
          "output_type": "stream",
          "name": "stdout",
          "text": [
            "Overwriting myapp.py\n"
          ]
        }
      ]
    },
    {
      "cell_type": "code",
      "source": [
        "import subprocess\n",
        "import threading\n",
        "import time\n",
        "\n",
        "def run():\n",
        "    subprocess.call(['streamlit', 'run', 'app.py'])\n",
        "\n",
        "thread = threading.Thread(target=run)\n",
        "thread.start()\n",
        "\n",
        "time.sleep(5)  # Give Streamlit time to launch"
      ],
      "metadata": {
        "id": "WGSxHeJhWPAt"
      },
      "execution_count": 34,
      "outputs": []
    },
    {
      "cell_type": "code",
      "source": [
        "public_url = ngrok.connect(8501)\n",
        "print(\"🚀 Streamlit is live at:\", public_url)"
      ],
      "metadata": {
        "colab": {
          "base_uri": "https://localhost:8080/"
        },
        "id": "dTLk725TWR7Q",
        "outputId": "64f7c5d1-7d0b-4920-9898-88d95ef4771e"
      },
      "execution_count": 35,
      "outputs": [
        {
          "output_type": "stream",
          "name": "stdout",
          "text": [
            "🚀 Streamlit is live at: NgrokTunnel: \"https://3e02-34-171-130-208.ngrok-free.app\" -> \"http://localhost:8501\"\n"
          ]
        }
      ]
    },
    {
      "cell_type": "code",
      "source": [
        "!streamlit run myapp.py"
      ],
      "metadata": {
        "colab": {
          "base_uri": "https://localhost:8080/"
        },
        "id": "764suuvBWWQA",
        "outputId": "9764205f-e8d9-442c-b971-a47c6bb7d3e2"
      },
      "execution_count": 36,
      "outputs": [
        {
          "output_type": "stream",
          "name": "stdout",
          "text": [
            "\n",
            "Collecting usage statistics. To deactivate, set browser.gatherUsageStats to false.\n",
            "\u001b[0m\n",
            "\u001b[0m\n",
            "\u001b[34m\u001b[1m  You can now view your Streamlit app in your browser.\u001b[0m\n",
            "\u001b[0m\n",
            "\u001b[34m  Local URL: \u001b[0m\u001b[1mhttp://localhost:8501\u001b[0m\n",
            "\u001b[34m  Network URL: \u001b[0m\u001b[1mhttp://172.28.0.12:8501\u001b[0m\n",
            "\u001b[34m  External URL: \u001b[0m\u001b[1mhttp://34.171.130.208:8501\u001b[0m\n",
            "\u001b[0m\n",
            "\u001b[34m  Stopping...\u001b[0m\n",
            "\u001b[34m  Stopping...\u001b[0m\n"
          ]
        }
      ]
    }
  ]
}