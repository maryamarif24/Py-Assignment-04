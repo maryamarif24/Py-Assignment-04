{
  "nbformat": 4,
  "nbformat_minor": 0,
  "metadata": {
    "colab": {
      "provenance": [],
      "authorship_tag": "ABX9TyPpjt20WAjDPkte14dIrJaS",
      "include_colab_link": true
    },
    "kernelspec": {
      "name": "python3",
      "display_name": "Python 3"
    },
    "language_info": {
      "name": "python"
    }
  },
  "cells": [
    {
      "cell_type": "markdown",
      "metadata": {
        "id": "view-in-github",
        "colab_type": "text"
      },
      "source": [
        "<a href=\"https://colab.research.google.com/github/maryamarif24/Py-Assignment-04/blob/main/Assignment_00_05.ipynb\" target=\"_parent\"><img src=\"https://colab.research.google.com/assets/colab-badge.svg\" alt=\"Open In Colab\"/></a>"
      ]
    },
    {
      "cell_type": "markdown",
      "source": [
        "#**00_intro_python**\n",
        "---\n",
        "---\n",
        "#01_add_two_numbers"
      ],
      "metadata": {
        "id": "vHgjsaj9yd9j"
      }
    },
    {
      "cell_type": "code",
      "source": [
        "def main():\n",
        "    firstNumber = int(input(\"Enter a number:\"))\n",
        "    secondNumber = int(input(\"Enter a number:\"))\n",
        "    sum = firstNumber + secondNumber\n",
        "    print(sum)\n",
        "\n",
        "if __name__ == '__main__':\n",
        "  main()"
      ],
      "metadata": {
        "colab": {
          "base_uri": "https://localhost:8080/"
        },
        "id": "DIoK-KxzzIqN",
        "outputId": "086d8708-55e2-4dfd-9930-41f7c019d20e"
      },
      "execution_count": 7,
      "outputs": [
        {
          "output_type": "stream",
          "name": "stdout",
          "text": [
            "Enter a number:24\n",
            "Enter a number:12\n",
            "36\n"
          ]
        }
      ]
    },
    {
      "cell_type": "markdown",
      "source": [
        "---\n",
        "---\n",
        "#02_agreement_bot"
      ],
      "metadata": {
        "id": "R8c4Ql0c06Es"
      }
    },
    {
      "cell_type": "code",
      "source": [
        "def main():\n",
        "  favAnimal = input(\"What is your Favourite Animal?\")\n",
        "  print(f\"My favourite animal is also {favAnimal}!\")\n",
        "\n",
        "if __name__ == '__main__':\n",
        "  main()"
      ],
      "metadata": {
        "colab": {
          "base_uri": "https://localhost:8080/"
        },
        "id": "7GfYGvzx1U6U",
        "outputId": "ea5feafd-2b29-4a9d-c779-8911ed6a4713"
      },
      "execution_count": 13,
      "outputs": [
        {
          "output_type": "stream",
          "name": "stdout",
          "text": [
            "What is your Favourite Animal?Cat\n",
            "My favourite animal is also Cat!\n"
          ]
        }
      ]
    },
    {
      "cell_type": "markdown",
      "source": [
        "---\n",
        "---\n",
        "#03_fahrenheit_to_celsius"
      ],
      "metadata": {
        "id": "d4s8aVRK224q"
      }
    },
    {
      "cell_type": "code",
      "source": [
        "def main():\n",
        "  fahrenHeit = float(input(\"Enter a temperature in Fahrenheit:\"))\n",
        "  celsius = (fahrenHeit - 32) * 5.0/9.0\n",
        "  print(f\"Temperature = {fahrenHeit}F = {celsius}C\")\n",
        "\n",
        "if __name__ == '__main__':\n",
        "  main()"
      ],
      "metadata": {
        "colab": {
          "base_uri": "https://localhost:8080/"
        },
        "id": "DqtUm6Pr2_Dg",
        "outputId": "f57dbd82-74d4-4322-db5f-50400178c58d"
      },
      "execution_count": 18,
      "outputs": [
        {
          "output_type": "stream",
          "name": "stdout",
          "text": [
            "Enter a temperature in Fahrenheit:76\n",
            "Temperature = 76.0F = 24.444444444444443C\n"
          ]
        }
      ]
    },
    {
      "cell_type": "markdown",
      "source": [
        "---\n",
        "---\n",
        "#04_how_old_are_they"
      ],
      "metadata": {
        "id": "Nx8uQeit3hQZ"
      }
    },
    {
      "cell_type": "code",
      "source": [
        "def main():\n",
        "  Anton : int = 21\n",
        "  Beth : int = 6 + Anton\n",
        "  Chen : int = 20 + Beth\n",
        "  Drew : int = Chen + Anton\n",
        "  Ethan : int = Chen\n",
        "\n",
        "  print(f\"Anton is {Anton} years old\")\n",
        "  print(f\"Beth is {Beth} years old\")\n",
        "  print(f\"Chen is {Chen} years old\")\n",
        "  print(f\"Drew is {Drew} years old\")\n",
        "  print(f\"Ethan is {Ethan} years old\")\n",
        "\n",
        "if __name__ == '__main__':\n",
        "  main()"
      ],
      "metadata": {
        "colab": {
          "base_uri": "https://localhost:8080/"
        },
        "id": "pVekBl7b4OgI",
        "outputId": "5fa710f7-a83d-4ea1-80ba-b6034a2c5834"
      },
      "execution_count": 20,
      "outputs": [
        {
          "output_type": "stream",
          "name": "stdout",
          "text": [
            "Anton is 21 years old\n",
            "Beth is 27 years old\n",
            "Chen is 47 years old\n",
            "Drew is 68 years old\n",
            "Ethan is 47 years old\n"
          ]
        }
      ]
    },
    {
      "cell_type": "markdown",
      "source": [
        "---\n",
        "---\n",
        "#05_triangle_perimeter"
      ],
      "metadata": {
        "id": "6GuscyK-5gZd"
      }
    },
    {
      "cell_type": "code",
      "source": [
        "def main():\n",
        "  side1 = float(input(\"Enter the length of side 1:\"))\n",
        "  side2 = float(input(\"Enter the length of side 2:\"))\n",
        "  side3 = float(input(\"Enter the length of side 3:\"))\n",
        "\n",
        "  perimeter = side1 + side2 + side3\n",
        "\n",
        "  print(f\"The perimeter of the triangle is {perimeter}\")\n",
        "\n",
        "if __name__ == '__main__':\n",
        "  main()"
      ],
      "metadata": {
        "colab": {
          "base_uri": "https://localhost:8080/"
        },
        "id": "o4eb-Fj55qP5",
        "outputId": "99670243-84c0-475e-b754-0ccd89931908"
      },
      "execution_count": 22,
      "outputs": [
        {
          "output_type": "stream",
          "name": "stdout",
          "text": [
            "Enter the length of side 1:12\n",
            "Enter the length of side 2:12\n",
            "Enter the length of side 3:12\n",
            "The perimeter of the triangle is 36.0\n"
          ]
        }
      ]
    },
    {
      "cell_type": "markdown",
      "source": [
        "---\n",
        "---\n",
        "#06_square_number"
      ],
      "metadata": {
        "id": "JtXlFDEu57d-"
      }
    },
    {
      "cell_type": "code",
      "source": [
        "def main():\n",
        "  number = float(input(\"Enter a number:\"))\n",
        "  square = number * number\n",
        "  print(f\"The square of {number} is {square}\")\n",
        "\n",
        "if __name__ == '__main__':\n",
        "  main()"
      ],
      "metadata": {
        "colab": {
          "base_uri": "https://localhost:8080/"
        },
        "id": "CwP5RkV76Gt8",
        "outputId": "c04b9ddc-2a4f-4e60-bd04-ebe4e21b0818"
      },
      "execution_count": 23,
      "outputs": [
        {
          "output_type": "stream",
          "name": "stdout",
          "text": [
            "Enter a number:12\n",
            "The square of 12.0 is 144.0\n"
          ]
        }
      ]
    }
  ]
}