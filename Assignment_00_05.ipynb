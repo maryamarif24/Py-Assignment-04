{
  "cells": [
    {
      "cell_type": "markdown",
      "metadata": {
        "id": "view-in-github",
        "colab_type": "text"
      },
      "source": [
        "<a href=\"https://colab.research.google.com/github/maryamarif24/Py-Assignment-04/blob/main/Assignment_00_05.ipynb\" target=\"_parent\"><img src=\"https://colab.research.google.com/assets/colab-badge.svg\" alt=\"Open In Colab\"/></a>"
      ]
    },
    {
      "cell_type": "markdown",
      "metadata": {
        "id": "vHgjsaj9yd9j"
      },
      "source": [
        "#**00_intro_python**\n",
        "---\n",
        "---\n",
        "#01_add_two_numbers"
      ]
    },
    {
      "cell_type": "code",
      "execution_count": null,
      "metadata": {
        "colab": {
          "base_uri": "https://localhost:8080/"
        },
        "id": "DIoK-KxzzIqN",
        "outputId": "df608255-2596-4c64-90d6-d096a4375bf7"
      },
      "outputs": [
        {
          "output_type": "stream",
          "name": "stdout",
          "text": [
            "Enter a number:12\n",
            "Enter a number:34\n",
            "46\n"
          ]
        }
      ],
      "source": [
        "def main():\n",
        "    firstNumber = int(input(\"Enter a number:\"))\n",
        "    secondNumber = int(input(\"Enter a number:\"))\n",
        "    sum = firstNumber + secondNumber\n",
        "    print(sum)\n",
        "\n",
        "if __name__ == '__main__':\n",
        "  main()"
      ]
    },
    {
      "cell_type": "markdown",
      "metadata": {
        "id": "R8c4Ql0c06Es"
      },
      "source": [
        "---\n",
        "---\n",
        "#02_agreement_bot"
      ]
    },
    {
      "cell_type": "code",
      "execution_count": null,
      "metadata": {
        "colab": {
          "base_uri": "https://localhost:8080/"
        },
        "id": "7GfYGvzx1U6U",
        "outputId": "270e2c97-536e-4a59-a721-ed010998cecb"
      },
      "outputs": [
        {
          "output_type": "stream",
          "name": "stdout",
          "text": [
            "What is your Favourite Animal? Cat\n",
            "My favourite animal is also Cat!\n"
          ]
        }
      ],
      "source": [
        "def main():\n",
        "  favAnimal = input(\"What is your Favourite Animal? \")\n",
        "  print(f\"My favourite animal is also {favAnimal}!\")\n",
        "\n",
        "if __name__ == '__main__':\n",
        "  main()"
      ]
    },
    {
      "cell_type": "markdown",
      "metadata": {
        "id": "d4s8aVRK224q"
      },
      "source": [
        "---\n",
        "---\n",
        "#03_fahrenheit_to_celsius"
      ]
    },
    {
      "cell_type": "code",
      "execution_count": null,
      "metadata": {
        "colab": {
          "base_uri": "https://localhost:8080/"
        },
        "id": "DqtUm6Pr2_Dg",
        "outputId": "f57dbd82-74d4-4322-db5f-50400178c58d"
      },
      "outputs": [
        {
          "name": "stdout",
          "output_type": "stream",
          "text": [
            "Enter a temperature in Fahrenheit:76\n",
            "Temperature = 76.0F = 24.444444444444443C\n"
          ]
        }
      ],
      "source": [
        "def main():\n",
        "  fahrenHeit = float(input(\"Enter a temperature in Fahrenheit:\"))\n",
        "  celsius = (fahrenHeit - 32) * 5.0/9.0\n",
        "  print(f\"Temperature = {fahrenHeit}F = {celsius}C\")\n",
        "\n",
        "if __name__ == '__main__':\n",
        "  main()"
      ]
    },
    {
      "cell_type": "markdown",
      "metadata": {
        "id": "Nx8uQeit3hQZ"
      },
      "source": [
        "---\n",
        "---\n",
        "#04_how_old_are_they"
      ]
    },
    {
      "cell_type": "code",
      "execution_count": null,
      "metadata": {
        "colab": {
          "base_uri": "https://localhost:8080/"
        },
        "id": "pVekBl7b4OgI",
        "outputId": "5fa710f7-a83d-4ea1-80ba-b6034a2c5834"
      },
      "outputs": [
        {
          "name": "stdout",
          "output_type": "stream",
          "text": [
            "Anton is 21 years old\n",
            "Beth is 27 years old\n",
            "Chen is 47 years old\n",
            "Drew is 68 years old\n",
            "Ethan is 47 years old\n"
          ]
        }
      ],
      "source": [
        "def main():\n",
        "  Anton : int = 21\n",
        "  Beth : int = 6 + Anton\n",
        "  Chen : int = 20 + Beth\n",
        "  Drew : int = Chen + Anton\n",
        "  Ethan : int = Chen\n",
        "\n",
        "  print(f\"Anton is {Anton} years old\")\n",
        "  print(f\"Beth is {Beth} years old\")\n",
        "  print(f\"Chen is {Chen} years old\")\n",
        "  print(f\"Drew is {Drew} years old\")\n",
        "  print(f\"Ethan is {Ethan} years old\")\n",
        "\n",
        "if __name__ == '__main__':\n",
        "  main()"
      ]
    },
    {
      "cell_type": "markdown",
      "metadata": {
        "id": "6GuscyK-5gZd"
      },
      "source": [
        "---\n",
        "---\n",
        "#05_triangle_perimeter"
      ]
    },
    {
      "cell_type": "code",
      "execution_count": null,
      "metadata": {
        "colab": {
          "base_uri": "https://localhost:8080/"
        },
        "id": "o4eb-Fj55qP5",
        "outputId": "99670243-84c0-475e-b754-0ccd89931908"
      },
      "outputs": [
        {
          "name": "stdout",
          "output_type": "stream",
          "text": [
            "Enter the length of side 1:12\n",
            "Enter the length of side 2:12\n",
            "Enter the length of side 3:12\n",
            "The perimeter of the triangle is 36.0\n"
          ]
        }
      ],
      "source": [
        "def main():\n",
        "  side1 = float(input(\"Enter the length of side 1:\"))\n",
        "  side2 = float(input(\"Enter the length of side 2:\"))\n",
        "  side3 = float(input(\"Enter the length of side 3:\"))\n",
        "\n",
        "  perimeter = side1 + side2 + side3\n",
        "\n",
        "  print(f\"The perimeter of the triangle is {perimeter}\")\n",
        "\n",
        "if __name__ == '__main__':\n",
        "  main()"
      ]
    },
    {
      "cell_type": "markdown",
      "metadata": {
        "id": "JtXlFDEu57d-"
      },
      "source": [
        "---\n",
        "---\n",
        "#06_square_number"
      ]
    },
    {
      "cell_type": "code",
      "execution_count": null,
      "metadata": {
        "colab": {
          "base_uri": "https://localhost:8080/"
        },
        "id": "CwP5RkV76Gt8",
        "outputId": "c04b9ddc-2a4f-4e60-bd04-ebe4e21b0818"
      },
      "outputs": [
        {
          "name": "stdout",
          "output_type": "stream",
          "text": [
            "Enter a number:12\n",
            "The square of 12.0 is 144.0\n"
          ]
        }
      ],
      "source": [
        "def main():\n",
        "  number = float(input(\"Enter a number:\"))\n",
        "  square = number * number\n",
        "  print(f\"The square of {number} is {square}\")\n",
        "\n",
        "if __name__ == '__main__':\n",
        "  main()"
      ]
    },
    {
      "cell_type": "markdown",
      "metadata": {
        "id": "zS975BbEAe5e"
      },
      "source": [
        "---\n",
        "---\n",
        "---\n",
        "---\n",
        "#**01_expressions**\n",
        "---\n",
        "---\n",
        "#01_dicesimulator"
      ]
    },
    {
      "cell_type": "code",
      "execution_count": null,
      "metadata": {
        "colab": {
          "base_uri": "https://localhost:8080/"
        },
        "id": "H9ky53RSAt2V",
        "outputId": "b3e8cad2-fe47-47dc-80ba-855ea90e1025"
      },
      "outputs": [
        {
          "name": "stdout",
          "output_type": "stream",
          "text": [
            "die1 in main() starts as: 10\n",
            "Total of two dice: 3\n",
            "Total of two dice: 8\n",
            "Total of two dice: 5\n",
            "die1 in main() is: 10\n"
          ]
        }
      ],
      "source": [
        "import random\n",
        "\n",
        "numofSides = 6\n",
        "\n",
        "def roll_dice():\n",
        "    die1 = random.randint(1, numofSides)\n",
        "    die2 = random.randint(1, numofSides)\n",
        "    total: int = die1 + die2\n",
        "    print(\"Total of two dice:\", total)\n",
        "\n",
        "def main():\n",
        "    die1: int = 10\n",
        "    print(\"die1 in main() starts as: \" + str(die1))\n",
        "    roll_dice()\n",
        "    roll_dice()\n",
        "    roll_dice()\n",
        "    print(\"die1 in main() is: \" + str(die1))\n",
        "\n",
        "if __name__ == '__main__':\n",
        "  main()"
      ]
    },
    {
      "cell_type": "markdown",
      "metadata": {
        "id": "NKkOWWEOChPP"
      },
      "source": [
        "---\n",
        "---\n",
        "#02_e=mc2"
      ]
    },
    {
      "cell_type": "code",
      "execution_count": null,
      "metadata": {
        "colab": {
          "background_save": true,
          "base_uri": "https://localhost:8080/"
        },
        "id": "A7glMcGuEFCF",
        "outputId": "460aee28-39c0-4f05-d9b5-c2eeca639696"
      },
      "outputs": [
        {
          "name": "stdout",
          "output_type": "stream",
          "text": [
            "e = m * C^2...\n",
            "m = 22.0 kg\n",
            "C = 299792458 m/s\n",
            "1.97726139322099866e+18 joules of energy!\n"
          ]
        }
      ],
      "source": [
        "def main():\n",
        "  c = 299792458  # Speed of light in m/s\n",
        "\n",
        "  while True:\n",
        "    try:\n",
        "      mass_kg = float(input(\"Enter kilos of mass: \"))\n",
        "      if mass_kg < 0:\n",
        "        raise ValueError(\"Mass must be a non-negative number.\")\n",
        "      energy_joules = mass_kg * c**2\n",
        "      print(\"e = m * C^2...\")\n",
        "      print(f\"m = {mass_kg:.1f} kg\")\n",
        "      print(f\"C = {c} m/s\")\n",
        "      print(f\"{energy_joules:.18g} joules of energy!\")\n",
        "    except ValueError as e:\n",
        "      print(f\"Invalid input: {e}\")\n",
        "    except Exception as e:\n",
        "      print(f\"An error occurred: {e}\")\n",
        "    else:\n",
        "      another_calculation = input(\"Do you want to perform another calculation? (y/n): \")\n",
        "      if another_calculation.lower() != 'y':\n",
        "        break\n",
        "\n",
        "if __name__ == \"__main__\":\n",
        "  main()"
      ]
    },
    {
      "cell_type": "markdown",
      "source": [
        "---\n",
        "---\n",
        "#03_feet_to_inches"
      ],
      "metadata": {
        "id": "gvnGBiRYz51y"
      }
    },
    {
      "cell_type": "code",
      "source": [
        "def main():\n",
        "  feet = float(input(\"Enter a number of feet:\"))\n",
        "  inches = feet * 12\n",
        "  print(f\"{feet} feet = {inches} inches\")\n",
        "\n",
        "if __name__ == '__main__':\n",
        "  main()"
      ],
      "metadata": {
        "colab": {
          "base_uri": "https://localhost:8080/"
        },
        "id": "dg2N5X2-0JlM",
        "outputId": "78dcb18d-6bed-47d0-bd7b-068ae7f7c2a6"
      },
      "execution_count": null,
      "outputs": [
        {
          "output_type": "stream",
          "name": "stdout",
          "text": [
            "Enter a number of feet:45\n",
            "45.0 feet = 540.0 inches\n"
          ]
        }
      ]
    },
    {
      "cell_type": "markdown",
      "source": [
        "---\n",
        "---\n",
        "#04_pythagoras_theorem"
      ],
      "metadata": {
        "id": "7J5hJdOX0Xrc"
      }
    },
    {
      "cell_type": "code",
      "source": [
        "import math\n",
        "\n",
        "def main():\n",
        "  side1 = float(input(\"Enter the length of side 1:\"))\n",
        "  side2 = float(input(\"Enter the length of side 2:\"))\n",
        "\n",
        "  hypotenuse = math.sqrt(side1**2 + side2**2)\n",
        "\n",
        "  print(f\"The length of the hypotenuse is: {hypotenuse}\")\n",
        "\n",
        "if __name__ == '__main__':\n",
        "  main()"
      ],
      "metadata": {
        "colab": {
          "base_uri": "https://localhost:8080/"
        },
        "id": "JYb_AMnl0hvV",
        "outputId": "f596a426-b102-4a43-ac94-74ea25399c79"
      },
      "execution_count": null,
      "outputs": [
        {
          "output_type": "stream",
          "name": "stdout",
          "text": [
            "Enter the length of side 1:2\n",
            "Enter the length of side 2:5\n",
            "The length of the hypotenuse is: 5.385164807134504\n"
          ]
        }
      ]
    },
    {
      "cell_type": "markdown",
      "source": [
        "---\n",
        "---\n",
        "#05_remainder_division"
      ],
      "metadata": {
        "id": "k6eA8Chh26pw"
      }
    },
    {
      "cell_type": "code",
      "source": [
        "def main():\n",
        "  dividend = float(input(\"Enter the dividend:\"))\n",
        "  divisor = float(input(\"Enter the divisor:\"))\n",
        "\n",
        "  quotient = dividend / divisor\n",
        "  remainder = dividend % divisor\n",
        "\n",
        "  print(f\"The quotient is {quotient}\")\n",
        "  print(f\"The remainder is {remainder}\")\n",
        "\n",
        "if __name__ == '__main__':\n",
        "  main()"
      ],
      "metadata": {
        "colab": {
          "base_uri": "https://localhost:8080/"
        },
        "id": "WVWxJaEF3CZK",
        "outputId": "9ba19a9d-c4ae-40b6-abd0-727f5a3ef67d"
      },
      "execution_count": null,
      "outputs": [
        {
          "output_type": "stream",
          "name": "stdout",
          "text": [
            "Enter the dividend:24\n",
            "Enter the divisor:5\n",
            "The quotient is 4.8\n",
            "The remainder is 4.0\n"
          ]
        }
      ]
    },
    {
      "cell_type": "markdown",
      "source": [
        "---\n",
        "---\n",
        "#06_rolldice"
      ],
      "metadata": {
        "id": "cfUDI_aK4eR-"
      }
    },
    {
      "cell_type": "code",
      "source": [
        "import random\n",
        "\n",
        "def roll_dice():\n",
        "  die1 = random.randint(1, 6)\n",
        "  die2 = random.randint(1, 6)\n",
        "  total = die1 + die2\n",
        "  print(f\"Roll 1: {die1}\")\n",
        "  print(f\"Roll 2: {die2}\")\n",
        "  print(f\"Total: {total}\")\n",
        "\n",
        "def main():\n",
        "  roll_dice()\n",
        "\n",
        "if __name__ == '__main__':\n",
        "  main()"
      ],
      "metadata": {
        "colab": {
          "base_uri": "https://localhost:8080/"
        },
        "id": "Mk2LzjAu48lh",
        "outputId": "64894f86-5099-4886-b8d3-b55e8e006930"
      },
      "execution_count": null,
      "outputs": [
        {
          "output_type": "stream",
          "name": "stdout",
          "text": [
            "Roll 1: 1\n",
            "Roll 2: 5\n",
            "Total: 6\n"
          ]
        }
      ]
    },
    {
      "cell_type": "markdown",
      "source": [
        "---\n",
        "---\n",
        "#06_seconds_in_year"
      ],
      "metadata": {
        "id": "7xKGz0d367OQ"
      }
    },
    {
      "cell_type": "code",
      "source": [
        "DAYS_PER_YEAR: int = 365\n",
        "HOURS_PER_DAY: int = 24\n",
        "MIN_PER_HOUR: int = 60\n",
        "SEC_PER_MIN: int = 60\n",
        "\n",
        "def main():\n",
        "    print(\"There are \" + str(DAYS_PER_YEAR * HOURS_PER_DAY * MIN_PER_HOUR * SEC_PER_MIN) + \" seconds in a year!\")\n",
        "\n",
        "\n",
        "\n",
        "if __name__ == '__main__':\n",
        "    main()"
      ],
      "metadata": {
        "colab": {
          "base_uri": "https://localhost:8080/"
        },
        "id": "o0jM9u9q7Xfv",
        "outputId": "b6afed68-6916-4a99-c5b2-9aeb2c22a23d"
      },
      "execution_count": null,
      "outputs": [
        {
          "output_type": "stream",
          "name": "stdout",
          "text": [
            "There are 31536000 seconds in a year!\n"
          ]
        }
      ]
    },
    {
      "cell_type": "markdown",
      "source": [
        "---\n",
        "---\n",
        "#07_tiny_mad_lib"
      ],
      "metadata": {
        "id": "DIXVspOQ_o6B"
      }
    },
    {
      "cell_type": "code",
      "source": [
        "SENTENCE_START = \"Code in Place is fun. I learned to program and used Python to make my \"\n",
        "\n",
        "def main():\n",
        "    adjective = input(\"Please type an adjective and press enter. \")\n",
        "    noun = input(\"Please type a noun and press enter. \")\n",
        "    verb = input(\"Please type a verb and press enter. \")\n",
        "    print(SENTENCE_START + adjective + \" \" + noun + \" \" + verb + \"!\")\n",
        "\n",
        "if __name__ == '__main__':\n",
        "    main()"
      ],
      "metadata": {
        "colab": {
          "base_uri": "https://localhost:8080/"
        },
        "id": "sPgGBsnO_3Rz",
        "outputId": "cafd40cc-00ce-4de7-8496-872264165d3d"
      },
      "execution_count": null,
      "outputs": [
        {
          "output_type": "stream",
          "name": "stdout",
          "text": [
            "Please type an adjective and press enter. beautiful\n",
            "Please type a noun and press enter. car\n",
            "Please type a verb and press enter. fast\n",
            "Code in Place is fun. I learned to program and used Python to make my beautiful car fast!\n"
          ]
        }
      ]
    },
    {
      "cell_type": "markdown",
      "source": [
        "---\n",
        "---\n",
        "---\n",
        "---\n",
        "#**02_lists**\n",
        "---\n",
        "---\n",
        "#01_add_many_number"
      ],
      "metadata": {
        "id": "7JD0JDt7A6G1"
      }
    },
    {
      "cell_type": "code",
      "source": [
        "def add_many_numbers(numbers: list[int]) -> int:\n",
        "\n",
        "  total = 0\n",
        "  for number in numbers:\n",
        "    total += number\n",
        "  return total\n",
        "\n",
        "def main():\n",
        "  numbers = [1, 2, 3, 4, 5, 6, 7, 8, 9, 10]\n",
        "  sum_of_numbers = add_many_numbers(numbers)\n",
        "  print(sum_of_numbers)\n",
        "\n",
        "if __name__ == '__main__':\n",
        "  main()"
      ],
      "metadata": {
        "colab": {
          "base_uri": "https://localhost:8080/"
        },
        "id": "F6L4UUCHBOhH",
        "outputId": "b6db9aac-7444-43f6-a577-1e8a73c9c976"
      },
      "execution_count": null,
      "outputs": [
        {
          "output_type": "stream",
          "name": "stdout",
          "text": [
            "55\n"
          ]
        }
      ]
    },
    {
      "cell_type": "markdown",
      "source": [
        "---\n",
        "---\n",
        "#02_double_list"
      ],
      "metadata": {
        "id": "uRPciCNFDBpA"
      }
    },
    {
      "cell_type": "code",
      "source": [
        "def main():\n",
        "  numbers: list[int] = [1, 2, 3, 4, 5]\n",
        "  doubled_numbers: list[int] = [num * 2 for num in numbers]\n",
        "  print(doubled_numbers)\n",
        "\n",
        "if __name__ == '__main__':\n",
        "  main()"
      ],
      "metadata": {
        "colab": {
          "base_uri": "https://localhost:8080/"
        },
        "id": "fOA5-ZWbDKb1",
        "outputId": "7fde8a9f-a59c-4614-f014-b781e1d4771a"
      },
      "execution_count": null,
      "outputs": [
        {
          "output_type": "stream",
          "name": "stdout",
          "text": [
            "[2, 4, 6, 8, 10]\n"
          ]
        }
      ]
    },
    {
      "cell_type": "markdown",
      "source": [
        "---\n",
        "---\n",
        "#03_erase_canvas"
      ],
      "metadata": {
        "id": "tF8pPth_Dw22"
      }
    },
    {
      "cell_type": "code",
      "source": [
        "import matplotlib.pyplot as plt\n",
        "import numpy as np\n",
        "\n",
        "CANVAS_WIDTH = 400\n",
        "CANVAS_HEIGHT = 400\n",
        "ERASER_SIZE = 20\n",
        "\n",
        "def draw_canvas():\n",
        "    \"\"\"Simulates a canvas using matplotlib instead of tkinter.\"\"\"\n",
        "    fig, ax = plt.subplots(figsize=(4, 4))\n",
        "    ax.set_xlim(0, CANVAS_WIDTH)\n",
        "    ax.set_ylim(0, CANVAS_HEIGHT)\n",
        "    ax.set_facecolor('black')\n",
        "\n",
        "    # Simulating an \"eraser\" effect\n",
        "    def on_click(event):\n",
        "        if event.xdata and event.ydata:\n",
        "            ax.add_patch(plt.Rectangle((event.xdata - ERASER_SIZE / 2,\n",
        "                                        event.ydata - ERASER_SIZE / 2),\n",
        "                                       ERASER_SIZE, ERASER_SIZE,\n",
        "                                       color='white'))\n",
        "            fig.canvas.draw()\n",
        "\n",
        "    fig.canvas.mpl_connect('button_press_event', on_click)\n",
        "    plt.show()\n",
        "\n",
        "if __name__ == '__main__':\n",
        "    draw_canvas()\n"
      ],
      "metadata": {
        "colab": {
          "base_uri": "https://localhost:8080/",
          "height": 374
        },
        "id": "AXWDRyGhdBUi",
        "outputId": "caf6beeb-d583-42d0-a804-e53884bcc172"
      },
      "execution_count": null,
      "outputs": [
        {
          "output_type": "display_data",
          "data": {
            "text/plain": [
              "<Figure size 400x400 with 1 Axes>"
            ],
            "image/png": "[encoded data removed]"
          },
          "metadata": {}
        }
      ]
    },
    {
      "cell_type": "markdown",
      "source": [
        "---\n",
        "---\n",
        "#04_flowing_with_data_structures"
      ],
      "metadata": {
        "id": "-I6JBFbJdroh"
      }
    },
    {
      "cell_type": "code",
      "source": [
        "def copy_data(my_list, data):\n",
        "  for i in range(3):\n",
        "    my_list.append(data)\n",
        "\n",
        "def main():\n",
        "  message = input(\"Enter a message: \")\n",
        "  my_list = []\n",
        "  print(\"List before:\", my_list)\n",
        "  copy_data(my_list, message)\n",
        "  print(\"List after:\", my_list)\n",
        "\n",
        "if __name__ == '__main__':\n",
        "  main()"
      ],
      "metadata": {
        "colab": {
          "base_uri": "https://localhost:8080/"
        },
        "id": "s9OnSkUNd_BG",
        "outputId": "8492b3e6-158c-4824-fe99-64b4f0331c44"
      },
      "execution_count": null,
      "outputs": [
        {
          "output_type": "stream",
          "name": "stdout",
          "text": [
            "Enter a message: This is Maryam!\n",
            "List before: []\n",
            "List after: ['This is Maryam!', 'This is Maryam!', 'This is Maryam!']\n"
          ]
        }
      ]
    },
    {
      "cell_type": "markdown",
      "source": [
        "---\n",
        "---\n",
        "#05_get_first_element"
      ],
      "metadata": {
        "id": "KB8pNlSFfdy6"
      }
    },
    {
      "cell_type": "code",
      "source": [
        "def get_first_element(lst):\n",
        "  print(lst[0])\n",
        "\n",
        "def get_lst():\n",
        "  lst = []\n",
        "  elem : str = input(\"Please enter an element of the list or press enter to stop: \")\n",
        "  while elem != \"\":\n",
        "    lst.append(elem)\n",
        "    elem = input(\"Please enter an element of the list or press enter to stop: \")\n",
        "  return lst\n",
        "\n",
        "def main():\n",
        "  lst = get_lst()\n",
        "  get_first_element(lst)\n",
        "\n",
        "if __name__ == '__main__':\n",
        "  main()"
      ],
      "metadata": {
        "colab": {
          "base_uri": "https://localhost:8080/"
        },
        "id": "UlcBS5i1fkCv",
        "outputId": "758b1269-fc6f-4989-ae44-2265ef0481aa"
      },
      "execution_count": null,
      "outputs": [
        {
          "output_type": "stream",
          "name": "stdout",
          "text": [
            "Please enter an element of the list or press enter to stop: hahaha\n",
            "Please enter an element of the list or press enter to stop: hi\n",
            "Please enter an element of the list or press enter to stop: how are you?\n",
            "Please enter an element of the list or press enter to stop: \n",
            "hahaha\n"
          ]
        }
      ]
    },
    {
      "cell_type": "markdown",
      "source": [
        "---\n",
        "---\n",
        "#06_get_last_element"
      ],
      "metadata": {
        "id": "paE7eOiGgkkk"
      }
    },
    {
      "cell_type": "code",
      "source": [
        "def get_last_element(lst):\n",
        "    return lst[-1]  # Return the last element using negative indexing\n",
        "\n",
        "def get_lst():\n",
        "    lst = []\n",
        "    elem = input(\"Please enter an element of the list or press enter to stop: \")\n",
        "    while elem != \"\":\n",
        "        lst.append(elem)\n",
        "        elem = input(\"Please enter an element of the list or press enter to stop: \")\n",
        "    return lst\n",
        "\n",
        "def main():\n",
        "    lst = get_lst()\n",
        "    print(get_last_element(lst))  # Print only the last element\n",
        "\n",
        "if __name__ == '__main__':\n",
        "    main()\n"
      ],
      "metadata": {
        "colab": {
          "base_uri": "https://localhost:8080/"
        },
        "id": "h_Jn5zqcgq3i",
        "outputId": "2a6c779a-e9d8-43a0-bd3d-3ff16475a562"
      },
      "execution_count": null,
      "outputs": [
        {
          "output_type": "stream",
          "name": "stdout",
          "text": [
            "Please enter an element of the list or press enter to stop: ok\n",
            "Please enter an element of the list or press enter to stop: hahah\n",
            "Please enter an element of the list or press enter to stop: hi\n",
            "Please enter an element of the list or press enter to stop: hello\n",
            "Please enter an element of the list or press enter to stop: \n",
            "hello\n"
          ]
        }
      ]
    },
    {
      "cell_type": "markdown",
      "source": [
        "---\n",
        "---\n",
        "#07_get_list"
      ],
      "metadata": {
        "id": "GImoVbMChVac"
      }
    },
    {
      "cell_type": "code",
      "source": [
        "def get_list(lst):\n",
        "  return lst\n",
        "\n",
        "def list_get():\n",
        "  lst = []\n",
        "  elem : str = input(\"Please enter an element of the list or press enter to stop: \")\n",
        "  while elem != \"\":\n",
        "    lst.append(elem)\n",
        "    elem = input(\"Please enter an element of the list or press enter to stop: \")\n",
        "  return lst\n",
        "\n",
        "def main():\n",
        "  lst = list_get()\n",
        "  print(get_list(lst))\n",
        "\n",
        "if __name__ == '__main__':\n",
        "  main()"
      ],
      "metadata": {
        "colab": {
          "base_uri": "https://localhost:8080/"
        },
        "id": "T6dzOgT-JanW",
        "outputId": "405aa039-7645-47e7-c6af-ae01f520be7d"
      },
      "execution_count": null,
      "outputs": [
        {
          "output_type": "stream",
          "name": "stdout",
          "text": [
            "Please enter an element of the list or press enter to stop: ok\n",
            "Please enter an element of the list or press enter to stop: haha\n",
            "Please enter an element of the list or press enter to stop: hehe\n",
            "Please enter an element of the list or press enter to stop: \n",
            "['ok', 'haha', 'hehe']\n"
          ]
        }
      ]
    },
    {
      "cell_type": "markdown",
      "source": [
        "---\n",
        "---\n",
        "#08_shorten"
      ],
      "metadata": {
        "id": "Qad8GhGaKLFT"
      }
    },
    {
      "cell_type": "code",
      "source": [
        "MAX_LENGTH = 3\n",
        "\n",
        "def shorten(lst):\n",
        "  while len(lst) > MAX_LENGTH:\n",
        "    print(lst.pop())\n",
        "\n",
        "def main():\n",
        "  lst = []\n",
        "  elem = input(\"Please enter an element of the list or press enter to stop: \")\n",
        "  while elem != \"\":\n",
        "    lst.append(elem)\n",
        "    elem = input(\"Please enter an element of the list or press enter to stop: \")\n",
        "  shorten(lst)\n",
        "\n",
        "\n",
        "if __name__ == '__main__':\n",
        "  main()\n"
      ],
      "metadata": {
        "colab": {
          "base_uri": "https://localhost:8080/"
        },
        "id": "zv5fpbqKKZ82",
        "outputId": "a0fc8684-39f3-4e51-8617-2f58b0763da3"
      },
      "execution_count": null,
      "outputs": [
        {
          "output_type": "stream",
          "name": "stdout",
          "text": [
            "Please enter an element of the list or press enter to stop: ok\n",
            "Please enter an element of the list or press enter to stop: oka\n",
            "Please enter an element of the list or press enter to stop: okay\n",
            "Please enter an element of the list or press enter to stop: okat\n",
            "Please enter an element of the list or press enter to stop: okats\n",
            "Please enter an element of the list or press enter to stop: \n",
            "okats\n",
            "okat\n"
          ]
        }
      ]
    },
    {
      "cell_type": "markdown",
      "source": [
        "---\n",
        "---\n",
        "---\n",
        "---\n",
        "#**03_if_statements**\n",
        "---\n",
        "---\n",
        "#01_print_events"
      ],
      "metadata": {
        "id": "RFvisuxDL2VM"
      }
    },
    {
      "cell_type": "code",
      "source": [
        "def main():\n",
        "  for i in range(10):\n",
        "    print(i * 2)\n",
        "\n",
        "if __name__ == '__main__':\n",
        "  main()"
      ],
      "metadata": {
        "colab": {
          "base_uri": "https://localhost:8080/"
        },
        "id": "g5GYw-M-MM27",
        "outputId": "5596dcd9-db01-4c67-8542-dd90872ed554"
      },
      "execution_count": null,
      "outputs": [
        {
          "output_type": "stream",
          "name": "stdout",
          "text": [
            "0\n",
            "2\n",
            "4\n",
            "6\n",
            "8\n",
            "10\n",
            "12\n",
            "14\n",
            "16\n",
            "18\n"
          ]
        }
      ]
    },
    {
      "cell_type": "markdown",
      "source": [
        "---\n",
        "---\n",
        "#02_international_voting_age"
      ],
      "metadata": {
        "id": "NojQOlk0Mn-i"
      }
    },
    {
      "cell_type": "code",
      "source": [
        "Peturksbouipo = 16\n",
        "Stanlau = 25\n",
        "Mayengua = 48\n",
        "\n",
        "def main():\n",
        "  age = int(input(\"How old are you? \"))\n",
        "  print(f\"Your age is {age}! In Peturksbouipo, you {'can' if age >= Peturksbouipo else 'cannot'} vote.\")\n",
        "  print(f\"Your age is {age}! In Stanlau, you {'can' if age >= Stanlau else 'cannot'} vote.\")\n",
        "  print(f\"Your age is {age}! In Mayengua, you {'can' if age >= Mayengua else 'cannot'} vote.\")\n",
        "\n",
        "if __name__ == '__main__':\n",
        "  main()\n"
      ],
      "metadata": {
        "colab": {
          "base_uri": "https://localhost:8080/"
        },
        "id": "1PlWvOCfNunH",
        "outputId": "5ae035d5-aad2-4c07-c8bf-91a06293cd8b"
      },
      "execution_count": null,
      "outputs": [
        {
          "output_type": "stream",
          "name": "stdout",
          "text": [
            "How old are you? 49\n",
            "Your age is 49! In Peturksbouipo, you can vote.\n",
            "Your age is 49! In Stanlau, you can vote.\n",
            "Your age is 49! In Mayengua, you can vote.\n"
          ]
        }
      ]
    },
    {
      "cell_type": "markdown",
      "source": [
        "---\n",
        "---\n",
        "#03_leap_year"
      ],
      "metadata": {
        "id": "hxTDPT-mOQwP"
      }
    },
    {
      "cell_type": "code",
      "source": [
        "def is_leap_year(year):\n",
        "    if year % 4 != 0:\n",
        "        return False\n",
        "    elif year % 100 == 0:\n",
        "        if year % 400 == 0:\n",
        "            return True\n",
        "        else:\n",
        "            return False\n",
        "    else:\n",
        "        return True\n",
        "\n",
        "def main():\n",
        "    year = int(input(\"Enter a year: \"))\n",
        "    if is_leap_year(year):\n",
        "        print(\"That's a leap year!\")\n",
        "    else:\n",
        "        print(\"That's not a leap year.\")\n",
        "\n",
        "if __name__ == \"__main__\":\n",
        "    main()\n"
      ],
      "metadata": {
        "colab": {
          "base_uri": "https://localhost:8080/"
        },
        "id": "1VW3gFYYOj2r",
        "outputId": "e062fcf4-ad5e-436c-fe15-ca36b819e411"
      },
      "execution_count": null,
      "outputs": [
        {
          "output_type": "stream",
          "name": "stdout",
          "text": [
            "Enter a year: 2025\n",
            "That's not a leap year.\n"
          ]
        }
      ]
    },
    {
      "cell_type": "markdown",
      "source": [
        "---\n",
        "---\n",
        "#04_tall_enough_to_ride"
      ],
      "metadata": {
        "id": "qRbkH4hCQcaT"
      }
    },
    {
      "cell_type": "code",
      "source": [
        "minimum_height : int = 50\n",
        "\n",
        "def main():\n",
        "  height = int(input(\"How tall are you?\"))\n",
        "\n",
        "  if height >= minimum_height:\n",
        "    print(\"You are tall enough to ride!\")\n",
        "  else:\n",
        "    print(\"You are not tall enough to ride! Maybe next year!\")\n",
        "\n",
        "if __name__ == '__main__':\n",
        "  main()"
      ],
      "metadata": {
        "colab": {
          "base_uri": "https://localhost:8080/"
        },
        "id": "kF27gxyQQl9o",
        "outputId": "5700e63f-730f-4fd8-d48e-3500b15ac3d7"
      },
      "execution_count": null,
      "outputs": [
        {
          "output_type": "stream",
          "name": "stdout",
          "text": [
            "How tall are you?49\n",
            "You are not tall enough to ride! Maybe next year!\n"
          ]
        }
      ]
    },
    {
      "cell_type": "markdown",
      "source": [
        "---\n",
        "---\n",
        "#05_random_numbers"
      ],
      "metadata": {
        "id": "aheRTNDaRdeF"
      }
    },
    {
      "cell_type": "code",
      "source": [
        "import random\n",
        "\n",
        "def main():\n",
        "  for _ in range(10):\n",
        "    print(random.randint(1, 100), end=\" \")\n",
        "  print()\n",
        "\n",
        "if __name__ == '__main__':\n",
        "  main()\n"
      ],
      "metadata": {
        "colab": {
          "base_uri": "https://localhost:8080/"
        },
        "id": "0ON-lGNdSBCi",
        "outputId": "fec21db0-28a5-42cd-b348-69e2649ec61e"
      },
      "execution_count": null,
      "outputs": [
        {
          "output_type": "stream",
          "name": "stdout",
          "text": [
            "8 32 90 56 90 87 52 3 52 69 \n"
          ]
        }
      ]
    },
    {
      "cell_type": "markdown",
      "source": [
        "---\n",
        "---\n",
        "---\n",
        "---\n",
        "#**04_dictionaries**\n",
        "---\n",
        "---\n",
        "#00_count_nums"
      ],
      "metadata": {
        "id": "Vc1z0PmUSKEZ"
      }
    },
    {
      "cell_type": "code",
      "source": [
        "def get_user_numbers():\n",
        "    user_numbers = []\n",
        "    while True:\n",
        "        user_input = input(\"Enter a number: \")\n",
        "\n",
        "        if user_input == \"\":\n",
        "            break\n",
        "\n",
        "        num = int(user_input)\n",
        "        user_numbers.append(num)\n",
        "\n",
        "    return user_numbers\n",
        "\n",
        "def count_nums(num_lst):\n",
        "\n",
        "    num_dict = {}\n",
        "    for num in num_lst:\n",
        "        if num not in num_dict:\n",
        "            num_dict[num] = 1\n",
        "        else:\n",
        "            num_dict[num] += 1\n",
        "\n",
        "    return num_dict\n",
        "\n",
        "\n",
        "def print_counts(num_dict):\n",
        "    for num in num_dict:\n",
        "        print(str(num) + \" appears \" + str(num_dict[num]) + \" times.\")\n",
        "\n",
        "\n",
        "def main():\n",
        "    user_numbers = get_user_numbers()\n",
        "    num_dict = count_nums(user_numbers)\n",
        "    print_counts(num_dict)\n",
        "\n",
        "if __name__ == '__main__':\n",
        "    main()"
      ],
      "metadata": {
        "colab": {
          "base_uri": "https://localhost:8080/"
        },
        "id": "1XFWimsfUAl6",
        "outputId": "7a0f21a9-bd6f-46c0-d8fa-11e7b6c08308"
      },
      "execution_count": null,
      "outputs": [
        {
          "output_type": "stream",
          "name": "stdout",
          "text": [
            "Enter a number: 12\n",
            "Enter a number: 2\n",
            "Enter a number: 122\n",
            "Enter a number: 13\n",
            "Enter a number: \n",
            "12 appears 1 times.\n",
            "2 appears 1 times.\n",
            "122 appears 1 times.\n",
            "13 appears 1 times.\n"
          ]
        }
      ]
    },
    {
      "cell_type": "markdown",
      "source": [
        "---\n",
        "---\n",
        "#01_phonebook"
      ],
      "metadata": {
        "id": "sQG33o0EUesc"
      }
    },
    {
      "cell_type": "code",
      "source": [
        "def read_phone_numbers():\n",
        "    phonebook = {}\n",
        "\n",
        "    while True:\n",
        "        name = input(\"Name: \")\n",
        "        if name == \"\":\n",
        "            break\n",
        "        number = input(\"Number: \")\n",
        "        phonebook[name] = number\n",
        "\n",
        "    return phonebook\n",
        "\n",
        "\n",
        "def print_phonebook(phonebook):\n",
        "    for name in phonebook:\n",
        "        print(str(name) + \" -> \" + str(phonebook[name]))\n",
        "\n",
        "\n",
        "def lookup_numbers(phonebook):\n",
        "    while True:\n",
        "        name = input(\"Enter name to lookup: \")\n",
        "        if name == \"\":\n",
        "            break\n",
        "        if name not in phonebook:\n",
        "            print(name + \" is not in the phonebook\")\n",
        "        else:\n",
        "            print(phonebook[name])\n",
        "\n",
        "\n",
        "def main():\n",
        "    phonebook = read_phone_numbers()\n",
        "    print_phonebook(phonebook)\n",
        "    lookup_numbers(phonebook)\n",
        "\n",
        "if __name__ == '__main__':\n",
        "    main()"
      ],
      "metadata": {
        "colab": {
          "base_uri": "https://localhost:8080/"
        },
        "id": "8d_QbyAAUmrW",
        "outputId": "6ad386c9-3ff1-4678-9230-d87a21427852"
      },
      "execution_count": null,
      "outputs": [
        {
          "name": "stdout",
          "output_type": "stream",
          "text": [
            "Name: Maryam Arif\n",
            "Number: +92 123 123 124\n",
            "Name: Roohi Arif\n",
            "Number: +92 111 222 333\n",
            "Name: \n",
            "Maryam Arif -> +92 123 123 124\n",
            "Roohi Arif -> +92 111 222 333\n",
            "Enter name to lookup: Maryam ARIF\n",
            "Maryam ARIF is not in the phonebook\n",
            "Enter name to lookup: Maryam\n",
            "Maryam is not in the phonebook\n",
            "Enter name to lookup: Maryam Arif\n",
            "+92 123 123 124\n",
            "Enter name to lookup: Roohi Arif\n",
            "+92 111 222 333\n",
            "Enter name to lookup: \n"
          ]
        }
      ]
    },
    {
      "cell_type": "markdown",
      "source": [
        "---\n",
        "---\n",
        "#02_pop_up_shop"
      ],
      "metadata": {
        "id": "GfPfVWEOVla8"
      }
    },
    {
      "cell_type": "code",
      "source": [
        "def main():\n",
        "    fruits = {'apple': 1.5, 'durian': 50, 'jackfruit': 80, 'kiwi': 1, 'rambutan': 1.5, 'mango': 5}\n",
        "\n",
        "    total_cost = 0\n",
        "    for fruit_name in fruits:\n",
        "        price = fruits[fruit_name]\n",
        "        amount_bought = int(input(\"How many (\" + fruit_name + \") do you want to buy?: \"))\n",
        "        total_cost += (price * amount_bought)\n",
        "\n",
        "    print(\"Your total is $\" + str(total_cost))\n",
        "\n",
        "if __name__ == '__main__':\n",
        "    main()"
      ],
      "metadata": {
        "colab": {
          "base_uri": "https://localhost:8080/"
        },
        "id": "c0WoBNRfVw76",
        "outputId": "e0cb2aac-cdf9-4182-d557-129098059a66"
      },
      "execution_count": null,
      "outputs": [
        {
          "output_type": "stream",
          "name": "stdout",
          "text": [
            "How many (apple) do you want to buy?: 1\n",
            "How many (durian) do you want to buy?: 2\n",
            "How many (jackfruit) do you want to buy?: 3\n",
            "How many (kiwi) do you want to buy?: 4\n",
            "How many (rambutan) do you want to buy?: 5\n",
            "How many (mango) do you want to buy?: 6\n",
            "Your total is $383.0\n"
          ]
        }
      ]
    },
    {
      "cell_type": "markdown",
      "source": [
        "---\n",
        "---\n",
        "#03_powerful_passwords"
      ],
      "metadata": {
        "id": "BWUyFcYMWFjW"
      }
    },
    {
      "cell_type": "code",
      "source": [
        "from hashlib import sha256\n",
        "\n",
        "def login(email, stored_logins, password_to_check):\n",
        "    if stored_logins[email] == hash_password(password_to_check):\n",
        "        return True\n",
        "\n",
        "    return False\n",
        "\n",
        "# There is no need to edit code beyond this point\n",
        "\n",
        "def hash_password(password):\n",
        "  return sha256(password.encode()).hexdigest()\n",
        "\n",
        "def main():\n",
        "    # stored_logins is a dictionary with emails as keys and hashed passwords as values\n",
        "    stored_logins = {\n",
        "        \"example@gmail.com\": \"5e884898da28047151d0e56f8dc6292773603d0d6aabbdd62a11ef721d1542d8\",\n",
        "        \"code_in_placer@cip.org\": \"973607a4ae7b4cf7d96a100b0fb07e8519cc4f70441d41214a9f811577bb06cc\",\n",
        "        \"student@stanford.edu\": \"882c6df720fd99f5eebb1581a1cf975625cea8a160283011c0b9512bb56c95fb\"\n",
        "    }\n",
        "\n",
        "    print(login(\"example@gmail.com\", stored_logins, \"word\"))\n",
        "    print(login(\"example@gmail.com\", stored_logins, \"password\"))\n",
        "\n",
        "    print(login(\"code_in_placer@cip.org\", stored_logins, \"Karel\"))\n",
        "    print(login(\"code_in_placer@cip.org\", stored_logins, \"karel\"))\n",
        "\n",
        "    print(login(\"student@stanford.edu\", stored_logins, \"password\"))\n",
        "    print(login(\"student@stanford.edu\", stored_logins, \"123!456?789\"))\n",
        "\n",
        "\n",
        "if __name__ == '__main__':\n",
        "    main()"
      ],
      "metadata": {
        "colab": {
          "base_uri": "https://localhost:8080/"
        },
        "id": "DjPYN_yKWLnD",
        "outputId": "1ccb1c95-f799-4171-c15b-6c2bdba44a45"
      },
      "execution_count": null,
      "outputs": [
        {
          "output_type": "stream",
          "name": "stdout",
          "text": [
            "False\n",
            "True\n",
            "False\n",
            "True\n",
            "False\n",
            "True\n"
          ]
        }
      ]
    },
    {
      "cell_type": "markdown",
      "source": [
        "---\n",
        "---\n",
        "---\n",
        "---\n",
        "#**05_loops_control_flow**\n",
        "---\n",
        "---\n",
        "#00_guess_my_number"
      ],
      "metadata": {
        "id": "L_QtPuAUWlXW"
      }
    },
    {
      "cell_type": "code",
      "source": [
        "import random\n",
        "\n",
        "def guess_my_number():\n",
        "    secret_number = random.randint(0, 99)\n",
        "    guess = -1\n",
        "\n",
        "    while guess != secret_number:\n",
        "        try:\n",
        "            guess = int(input(\"I am thinking of a number between 0 and 99... Enter a guess: \"))\n",
        "            if guess < secret_number:\n",
        "                print(\"Your guess is too low\")\n",
        "            elif guess > secret_number:\n",
        "                print(\"Your guess is too high\")\n",
        "            else:\n",
        "                print(f\"Congrats! The number was: {secret_number}\")\n",
        "        except ValueError:\n",
        "            print(\"Invalid input. Please enter a valid number.\")\n",
        "\n",
        "if __name__ == \"__main__\":\n",
        "    guess_my_number()\n"
      ],
      "metadata": {
        "colab": {
          "base_uri": "https://localhost:8080/"
        },
        "id": "3d_xFHYXWzgG",
        "outputId": "d24c020d-a76c-423d-94dc-ea276c8f55d9"
      },
      "execution_count": null,
      "outputs": [
        {
          "output_type": "stream",
          "name": "stdout",
          "text": [
            "I am thinking of a number between 0 and 99... Enter a guess: 45\n",
            "Your guess is too high\n",
            "I am thinking of a number between 0 and 99... Enter a guess: 34\n",
            "Your guess is too high\n",
            "I am thinking of a number between 0 and 99... Enter a guess: 1\n",
            "Your guess is too low\n",
            "I am thinking of a number between 0 and 99... Enter a guess: 12\n",
            "Your guess is too high\n",
            "I am thinking of a number between 0 and 99... Enter a guess: 5\n",
            "Your guess is too low\n",
            "I am thinking of a number between 0 and 99... Enter a guess: 8\n",
            "Your guess is too high\n",
            "I am thinking of a number between 0 and 99... Enter a guess: 7\n",
            "Congrats! The number was: 7\n"
          ]
        }
      ]
    },
    {
      "cell_type": "markdown",
      "source": [
        "---\n",
        "---\n",
        "#01_fibonacci"
      ],
      "metadata": {
        "id": "FxuJnkF3XLWQ"
      }
    },
    {
      "cell_type": "code",
      "source": [
        "def main():\n",
        "    MAX_TERM = 10000\n",
        "    a = 0\n",
        "    b = 1\n",
        "    print(a, end=\" \")\n",
        "    while b < MAX_TERM:\n",
        "        print(b, end=\" \")\n",
        "        a, b = b, a + b\n",
        "\n",
        "if __name__ == '__main__':\n",
        "    main()\n"
      ],
      "metadata": {
        "colab": {
          "base_uri": "https://localhost:8080/"
        },
        "id": "rlqnM5t8XTKK",
        "outputId": "52ceae00-b360-46c5-8a83-cc234cbac422"
      },
      "execution_count": null,
      "outputs": [
        {
          "output_type": "stream",
          "name": "stdout",
          "text": [
            "0 1 1 2 3 5 8 13 21 34 55 89 144 233 377 610 987 1597 2584 4181 6765 "
          ]
        }
      ]
    },
    {
      "cell_type": "markdown",
      "source": [
        "---\n",
        "---\n",
        "#02_print_events"
      ],
      "metadata": {
        "id": "8d27KcRcXqYa"
      }
    },
    {
      "cell_type": "code",
      "source": [
        "def main():\n",
        "  for i in range(10):\n",
        "    print(i * 2)\n",
        "\n",
        "if __name__ == '__main__':\n",
        "  main()"
      ],
      "metadata": {
        "colab": {
          "base_uri": "https://localhost:8080/"
        },
        "id": "V-aMApK5XwLy",
        "outputId": "6af0cf3c-1448-4049-cb23-7fe146384fdc"
      },
      "execution_count": null,
      "outputs": [
        {
          "output_type": "stream",
          "name": "stdout",
          "text": [
            "0\n",
            "2\n",
            "4\n",
            "6\n",
            "8\n",
            "10\n",
            "12\n",
            "14\n",
            "16\n",
            "18\n"
          ]
        }
      ]
    },
    {
      "cell_type": "markdown",
      "source": [
        "---\n",
        "---\n",
        "#03_wholesome_machine"
      ],
      "metadata": {
        "id": "6353tpJUYD5C"
      }
    },
    {
      "cell_type": "code",
      "source": [
        "def main():\n",
        "    affirmation = \"I am capable of doing anything I put my mind to.\"\n",
        "    user_input = \"\"\n",
        "    while user_input != affirmation:\n",
        "        user_input = input(\"Please type the following affirmation: \" + affirmation)\n",
        "        if user_input == affirmation:\n",
        "            print(\"That's right! :)\")\n",
        "        else:\n",
        "            print(\"Hmmm That was not the affirmation.\")\n",
        "\n",
        "if __name__ == \"__main__\":\n",
        "    main()\n"
      ],
      "metadata": {
        "colab": {
          "base_uri": "https://localhost:8080/"
        },
        "id": "CSlYc2gfYL_2",
        "outputId": "31a39b4a-d424-4338-ba0a-b41e5b490aa7"
      },
      "execution_count": null,
      "outputs": [
        {
          "output_type": "stream",
          "name": "stdout",
          "text": [
            "Please type the following affirmation: I am capable of doing anything I put my mind to.I am cpable of doing anthong I put my mind to\n",
            "Hmmm That was not the affirmation.\n",
            "Please type the following affirmation: I am capable of doing anything I put my mind to.I am capable of doing anything I put my mind to.\n",
            "That's right! :)\n"
          ]
        }
      ]
    },
    {
      "cell_type": "markdown",
      "source": [
        "---\n",
        "---\n",
        "#04_liftoff"
      ],
      "metadata": {
        "id": "H1_I5wMYYpUq"
      }
    },
    {
      "cell_type": "code",
      "source": [
        "def main():\n",
        "    for i in range(10):\n",
        "        print(10 - i, end=\" \")\n",
        "    print(\"Liftoff!\")\n",
        "\n",
        "if __name__ == '__main__':\n",
        "    main()\n"
      ],
      "metadata": {
        "colab": {
          "base_uri": "https://localhost:8080/"
        },
        "id": "tPu6aCsXYyRD",
        "outputId": "0476cdd3-79f5-4670-9d95-b37030e9f7e4"
      },
      "execution_count": null,
      "outputs": [
        {
          "output_type": "stream",
          "name": "stdout",
          "text": [
            "10 9 8 7 6 5 4 3 2 1 Liftoff!\n"
          ]
        }
      ]
    },
    {
      "cell_type": "markdown",
      "source": [
        "---\n",
        "---\n",
        "#05_double_it"
      ],
      "metadata": {
        "id": "mZapk9fkY_ad"
      }
    },
    {
      "cell_type": "code",
      "source": [
        "def main():\n",
        "    number = int(input(\"Enter a number: \"))\n",
        "    while number < 100:\n",
        "        number *= 2\n",
        "        print(number, end=\" \")\n",
        "    print()\n",
        "\n",
        "if __name__ == '__main__':\n",
        "    main()\n"
      ],
      "metadata": {
        "colab": {
          "base_uri": "https://localhost:8080/"
        },
        "id": "rRQP1YY9ZHDt",
        "outputId": "cc710a1b-12a6-4ca6-d7f0-ca57af83b744"
      },
      "execution_count": null,
      "outputs": [
        {
          "output_type": "stream",
          "name": "stdout",
          "text": [
            "Enter a number: 12\n",
            "24 48 96 192 \n"
          ]
        }
      ]
    },
    {
      "cell_type": "markdown",
      "source": [
        "---\n",
        "---\n",
        "---\n",
        "---\n",
        "#**06_functions**\n",
        "---\n",
        "---\n",
        "#00_averages"
      ],
      "metadata": {
        "id": "TvTR2bb2Zb1S"
      }
    },
    {
      "cell_type": "code",
      "source": [
        "number1 = int(input(\"Enter first number: \"))\n",
        "number2 = int(input(\"Enter second number: \"))\n",
        "\n",
        "def main():\n",
        "  avg = (number1 + number2) / 2\n",
        "  print(avg)\n",
        "\n",
        "if __name__ == '__main__':\n",
        "  main()"
      ],
      "metadata": {
        "id": "ckkn6N9lZmeA",
        "colab": {
          "base_uri": "https://localhost:8080/"
        },
        "outputId": "5bee5824-2d1e-460b-d46a-1b051eead99c"
      },
      "execution_count": 3,
      "outputs": [
        {
          "output_type": "stream",
          "name": "stdout",
          "text": [
            "Enter first number: 2\n",
            "Enter second number: 5\n",
            "3.5\n"
          ]
        }
      ]
    },
    {
      "cell_type": "markdown",
      "source": [
        "---\n",
        "---\n",
        "#01_chaotic_counting"
      ],
      "metadata": {
        "id": "BWbY4aWQ4r5T"
      }
    },
    {
      "cell_type": "code",
      "source": [
        "import random\n",
        "\n",
        "DONE_LIKELIHOOD = 0.2  # Adjust as needed\n",
        "\n",
        "def chaotic_counting():\n",
        "    for i in range(10):\n",
        "        curr_num = i + 1\n",
        "        if done():\n",
        "            return # this ends the function execution, so we'll get back to the main() function!\n",
        "        print(curr_num)\n",
        "\n",
        "def done():\n",
        "    \"\"\" Returns True with a probability of DONE_LIKELIHOOD \"\"\"\n",
        "    if random.random() < DONE_LIKELIHOOD:\n",
        "        return True\n",
        "    return False\n",
        "\n",
        "def main():\n",
        "    print(\"I'm going to count until 10 or until I feel like stopping, whichever comes first.\")\n",
        "    chaotic_counting()\n",
        "    print(\"I'm done\")\n",
        "\n",
        "if __name__ == \"__main__\":\n",
        "    main()"
      ],
      "metadata": {
        "colab": {
          "base_uri": "https://localhost:8080/"
        },
        "id": "WLnsy7UU5CaA",
        "outputId": "4f97ef1f-719b-403e-da3e-85db6d386d05"
      },
      "execution_count": 7,
      "outputs": [
        {
          "output_type": "stream",
          "name": "stdout",
          "text": [
            "I'm going to count until 10 or until I feel like stopping, whichever comes first.\n",
            "1\n",
            "2\n",
            "3\n",
            "4\n",
            "I'm done\n"
          ]
        }
      ]
    },
    {
      "cell_type": "markdown",
      "source": [
        "---\n",
        "---\n",
        "#02_count_even"
      ],
      "metadata": {
        "id": "6Cf2nNxO52x6"
      }
    },
    {
      "cell_type": "code",
      "source": [
        "def count_even(lst):\n",
        "    even_count = 0\n",
        "    for num in lst:\n",
        "        if num % 2 == 0:\n",
        "            even_count += 1\n",
        "    print(even_count)\n",
        "\n",
        "def main():\n",
        "    lst = []\n",
        "    while True:\n",
        "        user_input = input(\"Enter an integer or press enter to stop: \")\n",
        "        if user_input == \"\":\n",
        "            break\n",
        "        try:\n",
        "            num = int(user_input)\n",
        "            lst.append(num)\n",
        "        except ValueError:\n",
        "            print(\"Invalid input. Please enter an integer.\")\n",
        "    count_even(lst)\n",
        "\n",
        "if __name__ == \"__main__\":\n",
        "    main()\n"
      ],
      "metadata": {
        "colab": {
          "base_uri": "https://localhost:8080/"
        },
        "id": "sxHJKuJ659WQ",
        "outputId": "9ec60a67-337b-4db2-f216-99fd34bbae8b"
      },
      "execution_count": 9,
      "outputs": [
        {
          "output_type": "stream",
          "name": "stdout",
          "text": [
            "Enter an integer or press enter to stop: 12\n",
            "Enter an integer or press enter to stop: 2\n",
            "Enter an integer or press enter to stop: 4\n",
            "Enter an integer or press enter to stop: 34\n",
            "Enter an integer or press enter to stop: 33\n",
            "Enter an integer or press enter to stop: 32\n",
            "Enter an integer or press enter to stop: 1\n",
            "Enter an integer or press enter to stop: \n",
            "5\n"
          ]
        }
      ]
    },
    {
      "cell_type": "markdown",
      "source": [
        "---\n",
        "---\n",
        "#04_double\n"
      ],
      "metadata": {
        "id": "BCBgY_5J6q0G"
      }
    },
    {
      "cell_type": "code",
      "source": [
        "def double(num: int):\n",
        "    return num * 2\n",
        "\n",
        "def main():\n",
        "    num = int(input(\"Enter a number: \"))\n",
        "    num_times_2 = double(num)\n",
        "    print(\"Double that is\", num_times_2)\n",
        "\n",
        "if __name__ == '__main__':\n",
        "    main()"
      ],
      "metadata": {
        "colab": {
          "base_uri": "https://localhost:8080/"
        },
        "id": "Cq6Sx-Am61fO",
        "outputId": "dd9ba3e8-a91b-4813-c0e8-0f2e2f453e6b"
      },
      "execution_count": 11,
      "outputs": [
        {
          "output_type": "stream",
          "name": "stdout",
          "text": [
            "Enter a number: 44\n",
            "Double that is 88\n"
          ]
        }
      ]
    },
    {
      "cell_type": "markdown",
      "source": [
        "---\n",
        "---\n",
        "#05_get_name"
      ],
      "metadata": {
        "id": "IYtMaeOY7Adz"
      }
    },
    {
      "cell_type": "code",
      "source": [
        "def get_name():\n",
        "  name = input(\"Enter your name: \")\n",
        "  return name\n",
        "\n",
        "def main():\n",
        "  name = get_name()\n",
        "  print(f\"Hello {name}! How is your day going?\")\n",
        "\n",
        "if __name__ == '__main__':\n",
        "  main()"
      ],
      "metadata": {
        "colab": {
          "base_uri": "https://localhost:8080/"
        },
        "id": "8I6XcU647GaJ",
        "outputId": "c39980c5-c5e8-4afa-815b-bb029a8e32cc"
      },
      "execution_count": 14,
      "outputs": [
        {
          "output_type": "stream",
          "name": "stdout",
          "text": [
            "Enter your name: Maryam\n",
            "Hello Maryam! How is your day going?\n"
          ]
        }
      ]
    },
    {
      "cell_type": "markdown",
      "source": [
        "---\n",
        "---\n",
        "#06_is_odd"
      ],
      "metadata": {
        "id": "u7BUVk6a7oaI"
      }
    },
    {
      "cell_type": "code",
      "source": [
        "def main():\n",
        "    for i in range(10):\n",
        "        if is_odd(i):\n",
        "            print('number is odd')\n",
        "        else:\n",
        "            print('number is even')\n",
        "\n",
        "def is_odd(value: int):\n",
        "\n",
        "    remainder = value % 2\n",
        "    return remainder == 1\n",
        "\n",
        "if __name__ == '__main__':\n",
        "    main()"
      ],
      "metadata": {
        "colab": {
          "base_uri": "https://localhost:8080/"
        },
        "id": "M13KzZem7sDc",
        "outputId": "ba938c41-d551-49c9-c5fd-9fa4e04e86b4"
      },
      "execution_count": 16,
      "outputs": [
        {
          "output_type": "stream",
          "name": "stdout",
          "text": [
            "number is even\n",
            "number is odd\n",
            "number is even\n",
            "number is odd\n",
            "number is even\n",
            "number is odd\n",
            "number is even\n",
            "number is odd\n",
            "number is even\n",
            "number is odd\n"
          ]
        }
      ]
    },
    {
      "cell_type": "markdown",
      "source": [
        "---\n",
        "---\n",
        "#07_print_divisor"
      ],
      "metadata": {
        "id": "3dKKauEs8GOp"
      }
    },
    {
      "cell_type": "code",
      "source": [
        "def print_divisors(num: int):\n",
        "    print(\"Here are the divisors of\", num)\n",
        "    for i in range(num):\n",
        "        curr_divisor = i + 1\n",
        "        if num % curr_divisor == 0:\n",
        "            print(curr_divisor)\n",
        "\n",
        "def main():\n",
        "    num = int(input(\"Enter a number: \"))\n",
        "    print_divisors(num)\n",
        "\n",
        "if __name__ == '__main__':\n",
        "    main()"
      ],
      "metadata": {
        "colab": {
          "base_uri": "https://localhost:8080/"
        },
        "id": "2n7X7ZBj8iLy",
        "outputId": "2c5c276c-5695-4321-90ee-30115458c910"
      },
      "execution_count": 20,
      "outputs": [
        {
          "output_type": "stream",
          "name": "stdout",
          "text": [
            "Enter a number: 2\n",
            "Here are the divisors of 2\n",
            "1\n",
            "2\n"
          ]
        }
      ]
    },
    {
      "cell_type": "markdown",
      "source": [
        "---\n",
        "---\n",
        "#08_print_multiple"
      ],
      "metadata": {
        "id": "TB7pI3wJ8pLQ"
      }
    },
    {
      "cell_type": "code",
      "source": [
        "def print_multiple(message: str, repeats: int):\n",
        "  for i in range(repeats):\n",
        "    print(message)\n",
        "\n",
        "def main():\n",
        "  message = input(\"Please type a message: \")\n",
        "  repeats = int(input(\"Enter a number of times to repeat your message: \"))\n",
        "  print_multiple(message, repeats)\n",
        "\n",
        "if __name__ == '__main__':\n",
        "  main()"
      ],
      "metadata": {
        "colab": {
          "base_uri": "https://localhost:8080/"
        },
        "id": "adzFsMwU8xIe",
        "outputId": "9bff2173-9c44-4c8e-e62c-704a0f7f7cdc"
      },
      "execution_count": 22,
      "outputs": [
        {
          "output_type": "stream",
          "name": "stdout",
          "text": [
            "Please type a message: Hello Roohi, Arif, Noor and Bisma!\n",
            "Enter a number of times to repeat your message: 3\n",
            "Hello Roohi, Arif, Noor and Bisma!\n",
            "Hello Roohi, Arif, Noor and Bisma!\n",
            "Hello Roohi, Arif, Noor and Bisma!\n"
          ]
        }
      ]
    },
    {
      "cell_type": "markdown",
      "source": [
        "---\n",
        "---\n",
        "#09_sentence_generator"
      ],
      "metadata": {
        "id": "W8vNGLIP9Q39"
      }
    },
    {
      "cell_type": "code",
      "source": [
        "def make_sentence(word, part_of_speech):\n",
        "    if part_of_speech == 0:\n",
        "        print(\"I am excited to add this \" + word + \" to my vast collection of them!\")\n",
        "    elif part_of_speech == 1:\n",
        "        print(\"It's so nice outside today it makes me want to \" + word + \"!\")\n",
        "    elif part_of_speech == 2:\n",
        "        print(\"Looking out my window, the sky is big and \" + word + \"!\")\n",
        "    else:\n",
        "        print(\"Part of speech must be 0, 1, or 2! Can't make a sentence.\")\n",
        "\n",
        "\n",
        "def main():\n",
        "    word :  str = input(\"Please type a noun, verb, or adjective: \")\n",
        "    print(\"Is this a noun, verb, or adjective?\")\n",
        "    part_of_speech = int(input(\"Type 0 for noun, 1 for verb, 2 for adjective: \"))\n",
        "    make_sentence(word, part_of_speech)\n",
        "\n",
        "if __name__ == '__main__':\n",
        "    main()\n"
      ],
      "metadata": {
        "colab": {
          "base_uri": "https://localhost:8080/"
        },
        "id": "g3owx6mL9Ya1",
        "outputId": "baf72491-d09f-44b3-df9e-f20ebb046d45"
      },
      "execution_count": 25,
      "outputs": [
        {
          "output_type": "stream",
          "name": "stdout",
          "text": [
            "Please type a noun, verb, or adjective: high\n",
            "Is this a noun, verb, or adjective?\n",
            "Type 0 for noun, 1 for verb, 2 for adjective: 2\n",
            "Looking out my window, the sky is big and high!\n"
          ]
        }
      ]
    },
    {
      "cell_type": "markdown",
      "source": [
        "---\n",
        "---\n",
        "#10_print_ones_digit"
      ],
      "metadata": {
        "id": "8DldXgxa-gsN"
      }
    },
    {
      "cell_type": "code",
      "source": [
        "def print_ones_digit(num):\n",
        "  print(\"The ones digit is\", num % 10)\n",
        "\n",
        "def main():\n",
        "  num = int(input(\"Enter a number: \"))\n",
        "  print_ones_digit(num)\n",
        "\n",
        "if __name__ == '__main__':\n",
        "  main()"
      ],
      "metadata": {
        "colab": {
          "base_uri": "https://localhost:8080/"
        },
        "id": "sOeM06_t-pFv",
        "outputId": "9c4f1e5d-5a37-48d1-bd62-92f643f3cf02"
      },
      "execution_count": 27,
      "outputs": [
        {
          "output_type": "stream",
          "name": "stdout",
          "text": [
            "Enter a number: 23444\n",
            "The ones digit is 4\n"
          ]
        }
      ]
    },
    {
      "cell_type": "markdown",
      "source": [
        "---\n",
        "---\n",
        "---\n",
        "---\n",
        "#**07_information_flow**\n",
        "---\n",
        "---\n",
        "#00_choosing_returns"
      ],
      "metadata": {
        "id": "VOQ3EuzN-_6T"
      }
    },
    {
      "cell_type": "code",
      "source": [
        "ADULT_AGE : int = 18 # U.S. age\n",
        "\n",
        "def is_adult(age: int):\n",
        "    if age >= ADULT_AGE:\n",
        "        return True\n",
        "\n",
        "    return False\n",
        "\n",
        "def main():\n",
        "    age : str = int(input(\"How old is this person?: \"))\n",
        "    print(is_adult(age))\n",
        "\n",
        "\n",
        "if __name__ == \"__main__\":\n",
        "    main()"
      ],
      "metadata": {
        "colab": {
          "base_uri": "https://localhost:8080/"
        },
        "id": "V3XGqHGZ_rWE",
        "outputId": "81bc000a-1f19-4dda-adad-ea3d6b0637a1"
      },
      "execution_count": 29,
      "outputs": [
        {
          "output_type": "stream",
          "name": "stdout",
          "text": [
            "How old is this person?: 19\n",
            "True\n"
          ]
        }
      ]
    },
    {
      "cell_type": "markdown",
      "source": [
        "---\n",
        "---\n",
        "#01_greetings"
      ],
      "metadata": {
        "id": "k4AnPBlX_2zg"
      }
    },
    {
      "cell_type": "code",
      "source": [
        "def main():\n",
        "    name : str = input(\"What's your name? \")\n",
        "    print(greet(name))\n",
        "\n",
        "\n",
        "def greet(name):\n",
        "    return \"Greetings \" + name + \"!\"\n",
        "\n",
        "if __name__ == '__main__':\n",
        "    main()"
      ],
      "metadata": {
        "colab": {
          "base_uri": "https://localhost:8080/"
        },
        "id": "mwINMdFy_7r5",
        "outputId": "1d815dfe-f940-4931-cc76-2c0d63ebbdcf"
      },
      "execution_count": 31,
      "outputs": [
        {
          "output_type": "stream",
          "name": "stdout",
          "text": [
            "What's your name? Arif \n",
            "Greetings Arif !\n"
          ]
        }
      ]
    },
    {
      "cell_type": "markdown",
      "source": [
        "---\n",
        "---\n",
        "#02_in_range"
      ],
      "metadata": {
        "id": "Mm5uowbyAF16"
      }
    },
    {
      "cell_type": "code",
      "source": [
        "def in_range(n, low, high):\n",
        "\n",
        "    if n >= low and n <= high:\n",
        "      return True\n",
        "\n",
        "    # we could have also included an else statement, but since we are returning, it's fine without!\n",
        "    return False"
      ],
      "metadata": {
        "id": "U6voVwSKAL4j"
      },
      "execution_count": 32,
      "outputs": []
    },
    {
      "cell_type": "markdown",
      "source": [
        "---\n",
        "---\n",
        "#03_in_stock"
      ],
      "metadata": {
        "id": "f2Gveu5WAsDE"
      }
    },
    {
      "cell_type": "code",
      "source": [
        "def main():\n",
        "\tfruit : str = input(\"Enter a fruit: \")\n",
        "\tstock = num_in_stock(fruit)\n",
        "\tif stock == 0:\n",
        "\t\tprint(\"This fruit is not in stock.\")\n",
        "\telse:\n",
        "\t\tprint(\"This fruit is in stock! Here is how many:\")\n",
        "\t\tprint(stock)\n",
        "\n",
        "\n",
        "def num_in_stock(fruit):\n",
        "\n",
        "\tif fruit == 'apple':\n",
        "\t\treturn 2\n",
        "\tif fruit == 'durian':\n",
        "\t\treturn 4\n",
        "\tif fruit == 'pear':\n",
        "\t\treturn 1000\n",
        "\telse:\n",
        "\t\treturn 0\n",
        "\n",
        "\n",
        "if __name__ == '__main__':\n",
        "    main()"
      ],
      "metadata": {
        "colab": {
          "base_uri": "https://localhost:8080/"
        },
        "id": "SZ8T1GXPA3Qv",
        "outputId": "622b3c8a-90d7-4c35-cc6d-e8712d2cd1d7"
      },
      "execution_count": 35,
      "outputs": [
        {
          "output_type": "stream",
          "name": "stdout",
          "text": [
            "Enter a fruit: apple\n",
            "This fruit is in stock! Here is how many:\n",
            "2\n"
          ]
        }
      ]
    },
    {
      "cell_type": "markdown",
      "source": [
        "---\n",
        "---\n",
        "#04_multiple_returns"
      ],
      "metadata": {
        "id": "B7i9X2MQBOks"
      }
    },
    {
      "cell_type": "code",
      "source": [
        "def user_info():\n",
        "  first_name = input(\"Enter your first name: \")\n",
        "  last_name = input(\"Enter your last name:\")\n",
        "  email_address = input(\"Enter your email address: \")\n",
        "\n",
        "  return first_name, last_name, email_address\n",
        "\n",
        "def main():\n",
        "  user_data = user_info()\n",
        "  print(f\"Received the following user data: {user_data}\")\n",
        "\n",
        "if __name__ == '__main__':\n",
        "  main()"
      ],
      "metadata": {
        "colab": {
          "base_uri": "https://localhost:8080/"
        },
        "id": "F9xxn_4ZR4N6",
        "outputId": "5d06805c-89d6-4616-d7e2-fa65d0e5eb06"
      },
      "execution_count": 1,
      "outputs": [
        {
          "output_type": "stream",
          "name": "stdout",
          "text": [
            "Enter your first name: Maryam\n",
            "Enter your last name:Arif\n",
            "Enter your email address: maryamarif1814@gmail.com\n",
            "Received the following user data: ('Maryam', 'Arif', 'maryamarif1814@gmail.com')\n"
          ]
        }
      ]
    },
    {
      "cell_type": "markdown",
      "source": [
        "---\n",
        "---\n",
        "#07_subtract_7"
      ],
      "metadata": {
        "id": "TjGA6QXdTRw-"
      }
    },
    {
      "cell_type": "code",
      "source": [
        "def main():\n",
        "\tnum: int = 7\n",
        "\tnum = subtract_seven(num)\n",
        "\tprint(\"this should be zero: \", num)\n",
        "\n",
        "def subtract_seven(num):\n",
        "\tnum = num - 7\n",
        "\treturn num\n",
        "\n",
        "if __name__ == '__main__':\n",
        "    main()"
      ],
      "metadata": {
        "colab": {
          "base_uri": "https://localhost:8080/"
        },
        "id": "v3ynAbaUTbZD",
        "outputId": "6ec82f7f-0a80-4cba-af09-abc20c7cb9d9"
      },
      "execution_count": 3,
      "outputs": [
        {
          "output_type": "stream",
          "name": "stdout",
          "text": [
            "this should be zero:  0\n"
          ]
        }
      ]
    }
  ],
  "metadata": {
    "colab": {
      "provenance": [],
      "authorship_tag": "ABX9TyP6ZFUAOE/K9RlAxbNHd4hm",
      "include_colab_link": true
    },
    "kernelspec": {
      "display_name": "Python 3",
      "name": "python3"
    },
    "language_info": {
      "name": "python"
    }
  },
  "nbformat": 4,
  "nbformat_minor": 0
}